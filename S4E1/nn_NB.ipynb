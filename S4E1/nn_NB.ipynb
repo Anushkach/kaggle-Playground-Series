{
 "cells": [
  {
   "cell_type": "code",
   "execution_count": 182,
   "metadata": {},
   "outputs": [],
   "source": [
    "import pandas as pd \n",
    "import numpy as np\n",
    "import tensorflow as tf\n",
    "from tensorflow import keras"
   ]
  },
  {
   "cell_type": "code",
   "execution_count": 183,
   "metadata": {},
   "outputs": [],
   "source": [
    "train=pd.read_csv('train.csv')\n",
    "test=pd.read_csv('test.csv')\n",
    "original=pd.read_csv('Churn_Modelling.csv')"
   ]
  },
  {
   "cell_type": "code",
   "execution_count": 184,
   "metadata": {},
   "outputs": [
    {
     "data": {
      "text/html": [
       "<div>\n",
       "<style scoped>\n",
       "    .dataframe tbody tr th:only-of-type {\n",
       "        vertical-align: middle;\n",
       "    }\n",
       "\n",
       "    .dataframe tbody tr th {\n",
       "        vertical-align: top;\n",
       "    }\n",
       "\n",
       "    .dataframe thead th {\n",
       "        text-align: right;\n",
       "    }\n",
       "</style>\n",
       "<table border=\"1\" class=\"dataframe\">\n",
       "  <thead>\n",
       "    <tr style=\"text-align: right;\">\n",
       "      <th></th>\n",
       "      <th>id</th>\n",
       "      <th>CustomerId</th>\n",
       "      <th>Surname</th>\n",
       "      <th>CreditScore</th>\n",
       "      <th>Geography</th>\n",
       "      <th>Gender</th>\n",
       "      <th>Age</th>\n",
       "      <th>Tenure</th>\n",
       "      <th>Balance</th>\n",
       "      <th>NumOfProducts</th>\n",
       "      <th>HasCrCard</th>\n",
       "      <th>IsActiveMember</th>\n",
       "      <th>EstimatedSalary</th>\n",
       "      <th>Exited</th>\n",
       "      <th>RowNumber</th>\n",
       "    </tr>\n",
       "  </thead>\n",
       "  <tbody>\n",
       "    <tr>\n",
       "      <th>0</th>\n",
       "      <td>0.0</td>\n",
       "      <td>15674932</td>\n",
       "      <td>Okwudilichukwu</td>\n",
       "      <td>668</td>\n",
       "      <td>France</td>\n",
       "      <td>Male</td>\n",
       "      <td>33.0</td>\n",
       "      <td>3</td>\n",
       "      <td>0.00</td>\n",
       "      <td>2</td>\n",
       "      <td>1.0</td>\n",
       "      <td>0.0</td>\n",
       "      <td>181449.97</td>\n",
       "      <td>0</td>\n",
       "      <td>NaN</td>\n",
       "    </tr>\n",
       "    <tr>\n",
       "      <th>1</th>\n",
       "      <td>1.0</td>\n",
       "      <td>15749177</td>\n",
       "      <td>Okwudiliolisa</td>\n",
       "      <td>627</td>\n",
       "      <td>France</td>\n",
       "      <td>Male</td>\n",
       "      <td>33.0</td>\n",
       "      <td>1</td>\n",
       "      <td>0.00</td>\n",
       "      <td>2</td>\n",
       "      <td>1.0</td>\n",
       "      <td>1.0</td>\n",
       "      <td>49503.50</td>\n",
       "      <td>0</td>\n",
       "      <td>NaN</td>\n",
       "    </tr>\n",
       "    <tr>\n",
       "      <th>2</th>\n",
       "      <td>2.0</td>\n",
       "      <td>15694510</td>\n",
       "      <td>Hsueh</td>\n",
       "      <td>678</td>\n",
       "      <td>France</td>\n",
       "      <td>Male</td>\n",
       "      <td>40.0</td>\n",
       "      <td>10</td>\n",
       "      <td>0.00</td>\n",
       "      <td>2</td>\n",
       "      <td>1.0</td>\n",
       "      <td>0.0</td>\n",
       "      <td>184866.69</td>\n",
       "      <td>0</td>\n",
       "      <td>NaN</td>\n",
       "    </tr>\n",
       "    <tr>\n",
       "      <th>3</th>\n",
       "      <td>3.0</td>\n",
       "      <td>15741417</td>\n",
       "      <td>Kao</td>\n",
       "      <td>581</td>\n",
       "      <td>France</td>\n",
       "      <td>Male</td>\n",
       "      <td>34.0</td>\n",
       "      <td>2</td>\n",
       "      <td>148882.54</td>\n",
       "      <td>1</td>\n",
       "      <td>1.0</td>\n",
       "      <td>1.0</td>\n",
       "      <td>84560.88</td>\n",
       "      <td>0</td>\n",
       "      <td>NaN</td>\n",
       "    </tr>\n",
       "    <tr>\n",
       "      <th>4</th>\n",
       "      <td>4.0</td>\n",
       "      <td>15766172</td>\n",
       "      <td>Chiemenam</td>\n",
       "      <td>716</td>\n",
       "      <td>Spain</td>\n",
       "      <td>Male</td>\n",
       "      <td>33.0</td>\n",
       "      <td>5</td>\n",
       "      <td>0.00</td>\n",
       "      <td>2</td>\n",
       "      <td>1.0</td>\n",
       "      <td>1.0</td>\n",
       "      <td>15068.83</td>\n",
       "      <td>0</td>\n",
       "      <td>NaN</td>\n",
       "    </tr>\n",
       "  </tbody>\n",
       "</table>\n",
       "</div>"
      ],
      "text/plain": [
       "    id  CustomerId         Surname  ...  EstimatedSalary Exited RowNumber\n",
       "0  0.0    15674932  Okwudilichukwu  ...        181449.97      0       NaN\n",
       "1  1.0    15749177   Okwudiliolisa  ...         49503.50      0       NaN\n",
       "2  2.0    15694510           Hsueh  ...        184866.69      0       NaN\n",
       "3  3.0    15741417             Kao  ...         84560.88      0       NaN\n",
       "4  4.0    15766172       Chiemenam  ...         15068.83      0       NaN\n",
       "\n",
       "[5 rows x 15 columns]"
      ]
     },
     "execution_count": 184,
     "metadata": {},
     "output_type": "execute_result"
    }
   ],
   "source": [
    "train_data=pd.concat([train,original],axis=0, ignore_index=True)\n",
    "train_data.head()"
   ]
  },
  {
   "cell_type": "code",
   "execution_count": 185,
   "metadata": {},
   "outputs": [
    {
     "data": {
      "text/plain": [
       "id                  10002\n",
       "CustomerId              0\n",
       "Surname                 0\n",
       "CreditScore             0\n",
       "Geography               1\n",
       "Gender                  0\n",
       "Age                     1\n",
       "Tenure                  0\n",
       "Balance                 0\n",
       "NumOfProducts           0\n",
       "HasCrCard               1\n",
       "IsActiveMember          1\n",
       "EstimatedSalary         0\n",
       "Exited                  0\n",
       "RowNumber          165034\n",
       "dtype: int64"
      ]
     },
     "execution_count": 185,
     "metadata": {},
     "output_type": "execute_result"
    }
   ],
   "source": [
    "train_data.isnull().sum()"
   ]
  },
  {
   "cell_type": "code",
   "execution_count": 186,
   "metadata": {},
   "outputs": [
    {
     "data": {
      "text/plain": [
       "CreditScore        0\n",
       "Geography          0\n",
       "Gender             0\n",
       "Age                0\n",
       "Tenure             0\n",
       "Balance            0\n",
       "NumOfProducts      0\n",
       "HasCrCard          0\n",
       "IsActiveMember     0\n",
       "EstimatedSalary    0\n",
       "Exited             0\n",
       "dtype: int64"
      ]
     },
     "execution_count": 186,
     "metadata": {},
     "output_type": "execute_result"
    }
   ],
   "source": [
    "train_data.drop(columns=['id','RowNumber','Surname','CustomerId'],inplace=True)\n",
    "train_data.dropna(inplace=True)\n",
    "train_data.isnull().sum()"
   ]
  },
  {
   "cell_type": "code",
   "execution_count": 187,
   "metadata": {},
   "outputs": [
    {
     "name": "stdout",
     "output_type": "stream",
     "text": [
      "<class 'pandas.core.frame.DataFrame'>\n",
      "Int64Index: 175032 entries, 0 to 175035\n",
      "Data columns (total 11 columns):\n",
      " #   Column           Non-Null Count   Dtype  \n",
      "---  ------           --------------   -----  \n",
      " 0   CreditScore      175032 non-null  int64  \n",
      " 1   Geography        175032 non-null  object \n",
      " 2   Gender           175032 non-null  object \n",
      " 3   Age              175032 non-null  float64\n",
      " 4   Tenure           175032 non-null  int64  \n",
      " 5   Balance          175032 non-null  float64\n",
      " 6   NumOfProducts    175032 non-null  int64  \n",
      " 7   HasCrCard        175032 non-null  float64\n",
      " 8   IsActiveMember   175032 non-null  float64\n",
      " 9   EstimatedSalary  175032 non-null  float64\n",
      " 10  Exited           175032 non-null  int64  \n",
      "dtypes: float64(5), int64(4), object(2)\n",
      "memory usage: 16.0+ MB\n"
     ]
    }
   ],
   "source": [
    "train_data.info()"
   ]
  },
  {
   "cell_type": "code",
   "execution_count": 188,
   "metadata": {},
   "outputs": [
    {
     "data": {
      "text/plain": [
       "<Axes: >"
      ]
     },
     "execution_count": 188,
     "metadata": {},
     "output_type": "execute_result"
    },
    {
     "data": {
      "image/png": "[encoded data removed]",
      "text/plain": [
       "<Figure size 640x480 with 1 Axes>"
      ]
     },
     "metadata": {},
     "output_type": "display_data"
    }
   ],
   "source": [
    "train_data['Exited'].value_counts().plot(kind='bar',color=['salmon','lightblue'])\n"
   ]
  },
  {
   "cell_type": "code",
   "execution_count": 189,
   "metadata": {},
   "outputs": [
    {
     "data": {
      "text/html": [
       "<div>\n",
       "<style scoped>\n",
       "    .dataframe tbody tr th:only-of-type {\n",
       "        vertical-align: middle;\n",
       "    }\n",
       "\n",
       "    .dataframe tbody tr th {\n",
       "        vertical-align: top;\n",
       "    }\n",
       "\n",
       "    .dataframe thead th {\n",
       "        text-align: right;\n",
       "    }\n",
       "</style>\n",
       "<table border=\"1\" class=\"dataframe\">\n",
       "  <thead>\n",
       "    <tr style=\"text-align: right;\">\n",
       "      <th></th>\n",
       "      <th>0</th>\n",
       "      <th>1</th>\n",
       "      <th>2</th>\n",
       "      <th>3</th>\n",
       "      <th>4</th>\n",
       "      <th>5</th>\n",
       "      <th>6</th>\n",
       "      <th>7</th>\n",
       "      <th>8</th>\n",
       "      <th>9</th>\n",
       "    </tr>\n",
       "  </thead>\n",
       "  <tbody>\n",
       "    <tr>\n",
       "      <th>CreditScore</th>\n",
       "      <td>668</td>\n",
       "      <td>627</td>\n",
       "      <td>678</td>\n",
       "      <td>581</td>\n",
       "      <td>716</td>\n",
       "      <td>588</td>\n",
       "      <td>593</td>\n",
       "      <td>678</td>\n",
       "      <td>676</td>\n",
       "      <td>583</td>\n",
       "    </tr>\n",
       "    <tr>\n",
       "      <th>Geography</th>\n",
       "      <td>France</td>\n",
       "      <td>France</td>\n",
       "      <td>France</td>\n",
       "      <td>France</td>\n",
       "      <td>Spain</td>\n",
       "      <td>Germany</td>\n",
       "      <td>France</td>\n",
       "      <td>Spain</td>\n",
       "      <td>France</td>\n",
       "      <td>Germany</td>\n",
       "    </tr>\n",
       "    <tr>\n",
       "      <th>Gender</th>\n",
       "      <td>Male</td>\n",
       "      <td>Male</td>\n",
       "      <td>Male</td>\n",
       "      <td>Male</td>\n",
       "      <td>Male</td>\n",
       "      <td>Male</td>\n",
       "      <td>Female</td>\n",
       "      <td>Male</td>\n",
       "      <td>Male</td>\n",
       "      <td>Male</td>\n",
       "    </tr>\n",
       "    <tr>\n",
       "      <th>Age</th>\n",
       "      <td>33.0</td>\n",
       "      <td>33.0</td>\n",
       "      <td>40.0</td>\n",
       "      <td>34.0</td>\n",
       "      <td>33.0</td>\n",
       "      <td>36.0</td>\n",
       "      <td>30.0</td>\n",
       "      <td>37.0</td>\n",
       "      <td>43.0</td>\n",
       "      <td>40.0</td>\n",
       "    </tr>\n",
       "    <tr>\n",
       "      <th>Tenure</th>\n",
       "      <td>3</td>\n",
       "      <td>1</td>\n",
       "      <td>10</td>\n",
       "      <td>2</td>\n",
       "      <td>5</td>\n",
       "      <td>4</td>\n",
       "      <td>8</td>\n",
       "      <td>1</td>\n",
       "      <td>4</td>\n",
       "      <td>4</td>\n",
       "    </tr>\n",
       "    <tr>\n",
       "      <th>Balance</th>\n",
       "      <td>0.0</td>\n",
       "      <td>0.0</td>\n",
       "      <td>0.0</td>\n",
       "      <td>148882.54</td>\n",
       "      <td>0.0</td>\n",
       "      <td>131778.58</td>\n",
       "      <td>144772.69</td>\n",
       "      <td>138476.41</td>\n",
       "      <td>0.0</td>\n",
       "      <td>81274.33</td>\n",
       "    </tr>\n",
       "    <tr>\n",
       "      <th>NumOfProducts</th>\n",
       "      <td>2</td>\n",
       "      <td>2</td>\n",
       "      <td>2</td>\n",
       "      <td>1</td>\n",
       "      <td>2</td>\n",
       "      <td>1</td>\n",
       "      <td>1</td>\n",
       "      <td>1</td>\n",
       "      <td>2</td>\n",
       "      <td>1</td>\n",
       "    </tr>\n",
       "    <tr>\n",
       "      <th>HasCrCard</th>\n",
       "      <td>1.0</td>\n",
       "      <td>1.0</td>\n",
       "      <td>1.0</td>\n",
       "      <td>1.0</td>\n",
       "      <td>1.0</td>\n",
       "      <td>1.0</td>\n",
       "      <td>1.0</td>\n",
       "      <td>1.0</td>\n",
       "      <td>1.0</td>\n",
       "      <td>1.0</td>\n",
       "    </tr>\n",
       "    <tr>\n",
       "      <th>IsActiveMember</th>\n",
       "      <td>0.0</td>\n",
       "      <td>1.0</td>\n",
       "      <td>0.0</td>\n",
       "      <td>1.0</td>\n",
       "      <td>1.0</td>\n",
       "      <td>0.0</td>\n",
       "      <td>0.0</td>\n",
       "      <td>0.0</td>\n",
       "      <td>0.0</td>\n",
       "      <td>1.0</td>\n",
       "    </tr>\n",
       "    <tr>\n",
       "      <th>EstimatedSalary</th>\n",
       "      <td>181449.97</td>\n",
       "      <td>49503.5</td>\n",
       "      <td>184866.69</td>\n",
       "      <td>84560.88</td>\n",
       "      <td>15068.83</td>\n",
       "      <td>136024.31</td>\n",
       "      <td>29792.11</td>\n",
       "      <td>106851.6</td>\n",
       "      <td>142917.13</td>\n",
       "      <td>170843.07</td>\n",
       "    </tr>\n",
       "    <tr>\n",
       "      <th>Exited</th>\n",
       "      <td>0</td>\n",
       "      <td>0</td>\n",
       "      <td>0</td>\n",
       "      <td>0</td>\n",
       "      <td>0</td>\n",
       "      <td>1</td>\n",
       "      <td>0</td>\n",
       "      <td>0</td>\n",
       "      <td>0</td>\n",
       "      <td>0</td>\n",
       "    </tr>\n",
       "  </tbody>\n",
       "</table>\n",
       "</div>"
      ],
      "text/plain": [
       "                         0        1          2  ...          7          8          9\n",
       "CreditScore            668      627        678  ...        678        676        583\n",
       "Geography           France   France     France  ...      Spain     France    Germany\n",
       "Gender                Male     Male       Male  ...       Male       Male       Male\n",
       "Age                   33.0     33.0       40.0  ...       37.0       43.0       40.0\n",
       "Tenure                   3        1         10  ...          1          4          4\n",
       "Balance                0.0      0.0        0.0  ...  138476.41        0.0   81274.33\n",
       "NumOfProducts            2        2          2  ...          1          2          1\n",
       "HasCrCard              1.0      1.0        1.0  ...        1.0        1.0        1.0\n",
       "IsActiveMember         0.0      1.0        0.0  ...        0.0        0.0        1.0\n",
       "EstimatedSalary  181449.97  49503.5  184866.69  ...   106851.6  142917.13  170843.07\n",
       "Exited                   0        0          0  ...          0          0          0\n",
       "\n",
       "[11 rows x 10 columns]"
      ]
     },
     "execution_count": 189,
     "metadata": {},
     "output_type": "execute_result"
    }
   ],
   "source": [
    "train_data.head(10).T"
   ]
  },
  {
   "cell_type": "code",
   "execution_count": 190,
   "metadata": {},
   "outputs": [
    {
     "data": {
      "text/html": [
       "<div>\n",
       "<style scoped>\n",
       "    .dataframe tbody tr th:only-of-type {\n",
       "        vertical-align: middle;\n",
       "    }\n",
       "\n",
       "    .dataframe tbody tr th {\n",
       "        vertical-align: top;\n",
       "    }\n",
       "\n",
       "    .dataframe thead th {\n",
       "        text-align: right;\n",
       "    }\n",
       "</style>\n",
       "<table border=\"1\" class=\"dataframe\">\n",
       "  <thead>\n",
       "    <tr style=\"text-align: right;\">\n",
       "      <th></th>\n",
       "      <th>0</th>\n",
       "      <th>1</th>\n",
       "      <th>2</th>\n",
       "      <th>3</th>\n",
       "      <th>4</th>\n",
       "    </tr>\n",
       "  </thead>\n",
       "  <tbody>\n",
       "    <tr>\n",
       "      <th>CreditScore</th>\n",
       "      <td>668</td>\n",
       "      <td>627</td>\n",
       "      <td>678</td>\n",
       "      <td>581</td>\n",
       "      <td>716</td>\n",
       "    </tr>\n",
       "    <tr>\n",
       "      <th>Geography</th>\n",
       "      <td>France</td>\n",
       "      <td>France</td>\n",
       "      <td>France</td>\n",
       "      <td>France</td>\n",
       "      <td>Spain</td>\n",
       "    </tr>\n",
       "    <tr>\n",
       "      <th>Gender</th>\n",
       "      <td>0</td>\n",
       "      <td>0</td>\n",
       "      <td>0</td>\n",
       "      <td>0</td>\n",
       "      <td>0</td>\n",
       "    </tr>\n",
       "    <tr>\n",
       "      <th>Age</th>\n",
       "      <td>33.0</td>\n",
       "      <td>33.0</td>\n",
       "      <td>40.0</td>\n",
       "      <td>34.0</td>\n",
       "      <td>33.0</td>\n",
       "    </tr>\n",
       "    <tr>\n",
       "      <th>Tenure</th>\n",
       "      <td>3</td>\n",
       "      <td>1</td>\n",
       "      <td>10</td>\n",
       "      <td>2</td>\n",
       "      <td>5</td>\n",
       "    </tr>\n",
       "    <tr>\n",
       "      <th>Balance</th>\n",
       "      <td>0.0</td>\n",
       "      <td>0.0</td>\n",
       "      <td>0.0</td>\n",
       "      <td>148882.54</td>\n",
       "      <td>0.0</td>\n",
       "    </tr>\n",
       "    <tr>\n",
       "      <th>NumOfProducts</th>\n",
       "      <td>2</td>\n",
       "      <td>2</td>\n",
       "      <td>2</td>\n",
       "      <td>1</td>\n",
       "      <td>2</td>\n",
       "    </tr>\n",
       "    <tr>\n",
       "      <th>HasCrCard</th>\n",
       "      <td>1.0</td>\n",
       "      <td>1.0</td>\n",
       "      <td>1.0</td>\n",
       "      <td>1.0</td>\n",
       "      <td>1.0</td>\n",
       "    </tr>\n",
       "    <tr>\n",
       "      <th>IsActiveMember</th>\n",
       "      <td>0.0</td>\n",
       "      <td>1.0</td>\n",
       "      <td>0.0</td>\n",
       "      <td>1.0</td>\n",
       "      <td>1.0</td>\n",
       "    </tr>\n",
       "    <tr>\n",
       "      <th>EstimatedSalary</th>\n",
       "      <td>181449.97</td>\n",
       "      <td>49503.5</td>\n",
       "      <td>184866.69</td>\n",
       "      <td>84560.88</td>\n",
       "      <td>15068.83</td>\n",
       "    </tr>\n",
       "    <tr>\n",
       "      <th>Exited</th>\n",
       "      <td>0</td>\n",
       "      <td>0</td>\n",
       "      <td>0</td>\n",
       "      <td>0</td>\n",
       "      <td>0</td>\n",
       "    </tr>\n",
       "  </tbody>\n",
       "</table>\n",
       "</div>"
      ],
      "text/plain": [
       "                         0        1          2          3         4\n",
       "CreditScore            668      627        678        581       716\n",
       "Geography           France   France     France     France     Spain\n",
       "Gender                   0        0          0          0         0\n",
       "Age                   33.0     33.0       40.0       34.0      33.0\n",
       "Tenure                   3        1         10          2         5\n",
       "Balance                0.0      0.0        0.0  148882.54       0.0\n",
       "NumOfProducts            2        2          2          1         2\n",
       "HasCrCard              1.0      1.0        1.0        1.0       1.0\n",
       "IsActiveMember         0.0      1.0        0.0        1.0       1.0\n",
       "EstimatedSalary  181449.97  49503.5  184866.69   84560.88  15068.83\n",
       "Exited                   0        0          0          0         0"
      ]
     },
     "execution_count": 190,
     "metadata": {},
     "output_type": "execute_result"
    }
   ],
   "source": [
    "train_data['Gender']=train_data['Gender'].map({'Male':0,\n",
    "                                               'Female':1})\n",
    "train_data.head().T"
   ]
  },
  {
   "cell_type": "code",
   "execution_count": 191,
   "metadata": {},
   "outputs": [],
   "source": [
    "X=train_data.drop('Exited',axis=1)\n",
    "y=train_data['Exited']"
   ]
  },
  {
   "cell_type": "code",
   "execution_count": 192,
   "metadata": {},
   "outputs": [
    {
     "data": {
      "text/plain": [
       "['Geography']"
      ]
     },
     "execution_count": 192,
     "metadata": {},
     "output_type": "execute_result"
    }
   ],
   "source": [
    "cat_column=[]\n",
    "num_column=[]\n",
    "for col in X.columns:\n",
    "    if X[col].dtype=='O':\n",
    "        cat_column.append(col)\n",
    "    else:\n",
    "        num_column.append(col)\n",
    "\n",
    "cat_column"
   ]
  },
  {
   "cell_type": "code",
   "execution_count": 193,
   "metadata": {},
   "outputs": [],
   "source": [
    "from sklearn.preprocessing import OneHotEncoder,MinMaxScaler\n",
    "from sklearn.compose import ColumnTransformer\n",
    "from sklearn.pipeline import Pipeline\n",
    "\n",
    "num_pipeline=Pipeline([('scaler',MinMaxScaler())])\n",
    "cat_pipeline=Pipeline([('encoder',OneHotEncoder(handle_unknown='ignore',sparse_output=False))])\n",
    "\n",
    "preprocessor=ColumnTransformer([('num_pipeline',num_pipeline,num_column),\n",
    "                                ('cat_pipeline',cat_pipeline,cat_column)],remainder='passthrough')\n"
   ]
  },
  {
   "cell_type": "code",
   "execution_count": 194,
   "metadata": {},
   "outputs": [],
   "source": [
    "X=preprocessor.fit_transform(X)\n"
   ]
  },
  {
   "cell_type": "code",
   "execution_count": 195,
   "metadata": {},
   "outputs": [
    {
     "data": {
      "text/plain": [
       "(175032, 12)"
      ]
     },
     "execution_count": 195,
     "metadata": {},
     "output_type": "execute_result"
    }
   ],
   "source": [
    "X.shape"
   ]
  },
  {
   "cell_type": "code",
   "execution_count": 196,
   "metadata": {},
   "outputs": [
    {
     "data": {
      "text/plain": [
       "(175032,)"
      ]
     },
     "execution_count": 196,
     "metadata": {},
     "output_type": "execute_result"
    }
   ],
   "source": [
    "y.shape"
   ]
  },
  {
   "cell_type": "code",
   "execution_count": 197,
   "metadata": {},
   "outputs": [
    {
     "data": {
      "text/plain": [
       "0    138073\n",
       "1     36959\n",
       "Name: Exited, dtype: int64"
      ]
     },
     "execution_count": 197,
     "metadata": {},
     "output_type": "execute_result"
    }
   ],
   "source": [
    "y.value_counts()\n"
   ]
  },
  {
   "cell_type": "code",
   "execution_count": 198,
   "metadata": {},
   "outputs": [],
   "source": [
    "from imblearn.over_sampling import SMOTE\n",
    "smote=SMOTE(sampling_strategy='minority')\n"
   ]
  },
  {
   "cell_type": "code",
   "execution_count": 89,
   "metadata": {},
   "outputs": [],
   "source": [
    "# X,y=smote.fit_resample(X,y)"
   ]
  },
  {
   "cell_type": "markdown",
   "metadata": {},
   "source": []
  },
  {
   "cell_type": "code",
   "execution_count": 90,
   "metadata": {},
   "outputs": [
    {
     "data": {
      "text/plain": [
       "0    138073\n",
       "1     36959\n",
       "Name: Exited, dtype: int64"
      ]
     },
     "execution_count": 90,
     "metadata": {},
     "output_type": "execute_result"
    }
   ],
   "source": [
    "y.value_counts()\n"
   ]
  },
  {
   "cell_type": "code",
   "execution_count": 91,
   "metadata": {},
   "outputs": [
    {
     "data": {
      "text/plain": [
       "12"
      ]
     },
     "execution_count": 91,
     "metadata": {},
     "output_type": "execute_result"
    }
   ],
   "source": [
    "X.shape[1]\n"
   ]
  },
  {
   "cell_type": "markdown",
   "metadata": {},
   "source": [
    "## Model Training"
   ]
  },
  {
   "cell_type": "code",
   "execution_count": 215,
   "metadata": {},
   "outputs": [
    {
     "name": "stdout",
     "output_type": "stream",
     "text": [
      "Model: \"sequential_21\"\n",
      "_________________________________________________________________\n",
      " Layer (type)                Output Shape              Param #   \n",
      "=================================================================\n",
      " dense_74 (Dense)            (None, 64)                832       \n",
      "                                                                 \n",
      " dropout_41 (Dropout)        (None, 64)                0         \n",
      "                                                                 \n",
      " dense_75 (Dense)            (None, 32)                2080      \n",
      "                                                                 \n",
      " dropout_42 (Dropout)        (None, 32)                0         \n",
      "                                                                 \n",
      " dense_76 (Dense)            (None, 16)                528       \n",
      "                                                                 \n",
      " dense_77 (Dense)            (None, 1)                 17        \n",
      "                                                                 \n",
      "=================================================================\n",
      "Total params: 3457 (13.50 KB)\n",
      "Trainable params: 3457 (13.50 KB)\n",
      "Non-trainable params: 0 (0.00 Byte)\n",
      "_________________________________________________________________\n"
     ]
    }
   ],
   "source": [
    "# model=keras.Sequential([\n",
    "#     keras.layers.Dense(10,input_shape=(X.shape[1],),activation='relu'),\n",
    "#     keras.layers.Dense(5,activation='sigmoid'),\n",
    "#     keras.layers.Dense(1,activation='sigmoid')\n",
    "# ])\n",
    "\n",
    "model= keras.Sequential([\n",
    "    keras.layers.Dense(64, input_shape=(X.shape[1],), activation='relu'),\n",
    "    keras.layers.Dropout(0.1),\n",
    "    keras.layers.Dense(32, activation='relu'),\n",
    "    keras.layers.Dropout(0.1), \n",
    "    keras.layers.Dense(16, activation='tanh'),\n",
    "       \n",
    "    keras.layers.Dense(1, activation='sigmoid')\n",
    "])\n",
    "\n",
    "\n",
    "\n",
    "model.summary()"
   ]
  },
  {
   "cell_type": "code",
   "execution_count": null,
   "metadata": {},
   "outputs": [],
   "source": []
  },
  {
   "cell_type": "code",
   "execution_count": 216,
   "metadata": {},
   "outputs": [],
   "source": [
    "from keras.callbacks import EarlyStopping\n",
    "early_stopping = EarlyStopping(monitor='val_loss', patience=20)\n",
    "\n",
    "model.compile(optimizer=keras.optimizers.Adam(learning_rate=0.002),\n",
    "              loss='binary_crossentropy',\n",
    "              metrics=[tf.keras.metrics.AUC(curve='ROC')])\n"
   ]
  },
  {
   "cell_type": "code",
   "execution_count": 217,
   "metadata": {},
   "outputs": [
    {
     "name": "stdout",
     "output_type": "stream",
     "text": [
      "Epoch 1/1000\n",
      "3829/3829 [==============================] - 16s 4ms/step - loss: 0.3575 - auc_21: 0.8567 - val_loss: 0.3381 - val_auc_21: 0.8745\n",
      "Epoch 2/1000\n",
      "3829/3829 [==============================] - 16s 4ms/step - loss: 0.3333 - auc_21: 0.8781 - val_loss: 0.3352 - val_auc_21: 0.8782\n",
      "Epoch 3/1000\n",
      "3829/3829 [==============================] - 18s 5ms/step - loss: 0.3312 - auc_21: 0.8795 - val_loss: 0.3342 - val_auc_21: 0.8780\n",
      "Epoch 4/1000\n",
      "3829/3829 [==============================] - 16s 4ms/step - loss: 0.3302 - auc_21: 0.8806 - val_loss: 0.3356 - val_auc_21: 0.8771\n",
      "Epoch 5/1000\n",
      "3829/3829 [==============================] - 15s 4ms/step - loss: 0.3285 - auc_21: 0.8818 - val_loss: 0.3338 - val_auc_21: 0.8789\n",
      "Epoch 6/1000\n",
      "3829/3829 [==============================] - 16s 4ms/step - loss: 0.3280 - auc_21: 0.8823 - val_loss: 0.3367 - val_auc_21: 0.8779\n",
      "Epoch 7/1000\n",
      "3829/3829 [==============================] - 16s 4ms/step - loss: 0.3276 - auc_21: 0.8828 - val_loss: 0.3316 - val_auc_21: 0.8802\n",
      "Epoch 8/1000\n",
      "3829/3829 [==============================] - 16s 4ms/step - loss: 0.3273 - auc_21: 0.8828 - val_loss: 0.3310 - val_auc_21: 0.8803\n",
      "Epoch 9/1000\n",
      "3829/3829 [==============================] - 16s 4ms/step - loss: 0.3268 - auc_21: 0.8834 - val_loss: 0.3320 - val_auc_21: 0.8805\n",
      "Epoch 10/1000\n",
      "3829/3829 [==============================] - 16s 4ms/step - loss: 0.3266 - auc_21: 0.8834 - val_loss: 0.3375 - val_auc_21: 0.8814\n",
      "Epoch 11/1000\n",
      "3829/3829 [==============================] - 16s 4ms/step - loss: 0.3267 - auc_21: 0.8834 - val_loss: 0.3303 - val_auc_21: 0.8807\n",
      "Epoch 12/1000\n",
      "3829/3829 [==============================] - 16s 4ms/step - loss: 0.3263 - auc_21: 0.8837 - val_loss: 0.3324 - val_auc_21: 0.8793\n",
      "Epoch 13/1000\n",
      "3829/3829 [==============================] - 18s 5ms/step - loss: 0.3265 - auc_21: 0.8836 - val_loss: 0.3306 - val_auc_21: 0.8807\n",
      "Epoch 14/1000\n",
      "3829/3829 [==============================] - 17s 4ms/step - loss: 0.3258 - auc_21: 0.8841 - val_loss: 0.3312 - val_auc_21: 0.8799\n",
      "Epoch 15/1000\n",
      "3829/3829 [==============================] - 16s 4ms/step - loss: 0.3256 - auc_21: 0.8842 - val_loss: 0.3311 - val_auc_21: 0.8806\n",
      "Epoch 16/1000\n",
      "3829/3829 [==============================] - 16s 4ms/step - loss: 0.3258 - auc_21: 0.8841 - val_loss: 0.3306 - val_auc_21: 0.8804\n",
      "Epoch 17/1000\n",
      "3829/3829 [==============================] - 16s 4ms/step - loss: 0.3255 - auc_21: 0.8843 - val_loss: 0.3299 - val_auc_21: 0.8808\n",
      "Epoch 18/1000\n",
      "3829/3829 [==============================] - 16s 4ms/step - loss: 0.3256 - auc_21: 0.8842 - val_loss: 0.3307 - val_auc_21: 0.8811\n",
      "Epoch 19/1000\n",
      "3829/3829 [==============================] - 16s 4ms/step - loss: 0.3253 - auc_21: 0.8845 - val_loss: 0.3317 - val_auc_21: 0.8797\n",
      "Epoch 20/1000\n",
      "3829/3829 [==============================] - 16s 4ms/step - loss: 0.3247 - auc_21: 0.8848 - val_loss: 0.3312 - val_auc_21: 0.8812\n",
      "Epoch 21/1000\n",
      "3829/3829 [==============================] - 17s 4ms/step - loss: 0.3252 - auc_21: 0.8845 - val_loss: 0.3311 - val_auc_21: 0.8806\n",
      "Epoch 22/1000\n",
      "3829/3829 [==============================] - 16s 4ms/step - loss: 0.3246 - auc_21: 0.8851 - val_loss: 0.3333 - val_auc_21: 0.8796\n",
      "Epoch 23/1000\n",
      "3829/3829 [==============================] - 16s 4ms/step - loss: 0.3249 - auc_21: 0.8846 - val_loss: 0.3306 - val_auc_21: 0.8799\n",
      "Epoch 24/1000\n",
      "3829/3829 [==============================] - 18s 5ms/step - loss: 0.3242 - auc_21: 0.8854 - val_loss: 0.3305 - val_auc_21: 0.8803\n",
      "Epoch 25/1000\n",
      "3829/3829 [==============================] - 21s 5ms/step - loss: 0.3242 - auc_21: 0.8851 - val_loss: 0.3317 - val_auc_21: 0.8795\n",
      "Epoch 26/1000\n",
      "3829/3829 [==============================] - 20s 5ms/step - loss: 0.3241 - auc_21: 0.8854 - val_loss: 0.3307 - val_auc_21: 0.8801\n",
      "Epoch 27/1000\n",
      "3829/3829 [==============================] - 26s 7ms/step - loss: 0.3243 - auc_21: 0.8853 - val_loss: 0.3357 - val_auc_21: 0.8808\n",
      "Epoch 28/1000\n",
      "3829/3829 [==============================] - 27s 7ms/step - loss: 0.3248 - auc_21: 0.8849 - val_loss: 0.3318 - val_auc_21: 0.8800\n",
      "Epoch 29/1000\n",
      "3829/3829 [==============================] - 25s 7ms/step - loss: 0.3243 - auc_21: 0.8852 - val_loss: 0.3298 - val_auc_21: 0.8803\n",
      "Epoch 30/1000\n",
      "3829/3829 [==============================] - 20s 5ms/step - loss: 0.3243 - auc_21: 0.8850 - val_loss: 0.3306 - val_auc_21: 0.8811\n",
      "Epoch 31/1000\n",
      "3829/3829 [==============================] - 22s 6ms/step - loss: 0.3240 - auc_21: 0.8856 - val_loss: 0.3312 - val_auc_21: 0.8806\n",
      "Epoch 32/1000\n",
      "3829/3829 [==============================] - 19s 5ms/step - loss: 0.3240 - auc_21: 0.8857 - val_loss: 0.3309 - val_auc_21: 0.8809\n",
      "Epoch 33/1000\n",
      "3829/3829 [==============================] - 20s 5ms/step - loss: 0.3237 - auc_21: 0.8855 - val_loss: 0.3357 - val_auc_21: 0.8755\n",
      "Epoch 34/1000\n",
      "3829/3829 [==============================] - 20s 5ms/step - loss: 0.3244 - auc_21: 0.8851 - val_loss: 0.3303 - val_auc_21: 0.8801\n",
      "Epoch 35/1000\n",
      "3829/3829 [==============================] - 21s 5ms/step - loss: 0.3244 - auc_21: 0.8851 - val_loss: 0.3303 - val_auc_21: 0.8803\n",
      "Epoch 36/1000\n",
      "3829/3829 [==============================] - 20s 5ms/step - loss: 0.3239 - auc_21: 0.8854 - val_loss: 0.3302 - val_auc_21: 0.8809\n",
      "Epoch 37/1000\n",
      "3829/3829 [==============================] - 18s 5ms/step - loss: 0.3237 - auc_21: 0.8857 - val_loss: 0.3304 - val_auc_21: 0.8803\n",
      "Epoch 38/1000\n",
      "3829/3829 [==============================] - 18s 5ms/step - loss: 0.3241 - auc_21: 0.8853 - val_loss: 0.3299 - val_auc_21: 0.8810\n",
      "Epoch 39/1000\n",
      "3829/3829 [==============================] - 17s 4ms/step - loss: 0.3239 - auc_21: 0.8855 - val_loss: 0.3321 - val_auc_21: 0.8794\n",
      "Epoch 40/1000\n",
      "3829/3829 [==============================] - 16s 4ms/step - loss: 0.3237 - auc_21: 0.8857 - val_loss: 0.3303 - val_auc_21: 0.8803\n",
      "Epoch 41/1000\n",
      "3829/3829 [==============================] - 17s 4ms/step - loss: 0.3239 - auc_21: 0.8856 - val_loss: 0.3332 - val_auc_21: 0.8806\n",
      "Epoch 42/1000\n",
      "3829/3829 [==============================] - 16s 4ms/step - loss: 0.3238 - auc_21: 0.8856 - val_loss: 0.3297 - val_auc_21: 0.8809\n",
      "Epoch 43/1000\n",
      "3829/3829 [==============================] - 16s 4ms/step - loss: 0.3242 - auc_21: 0.8851 - val_loss: 0.3306 - val_auc_21: 0.8807\n",
      "Epoch 44/1000\n",
      "3829/3829 [==============================] - 16s 4ms/step - loss: 0.3233 - auc_21: 0.8860 - val_loss: 0.3308 - val_auc_21: 0.8801\n",
      "Epoch 45/1000\n",
      "3829/3829 [==============================] - 17s 4ms/step - loss: 0.3236 - auc_21: 0.8855 - val_loss: 0.3309 - val_auc_21: 0.8798\n",
      "Epoch 46/1000\n",
      "3829/3829 [==============================] - 16s 4ms/step - loss: 0.3233 - auc_21: 0.8860 - val_loss: 0.3297 - val_auc_21: 0.8811\n",
      "Epoch 47/1000\n",
      "3829/3829 [==============================] - 16s 4ms/step - loss: 0.3236 - auc_21: 0.8857 - val_loss: 0.3290 - val_auc_21: 0.8813\n",
      "Epoch 48/1000\n",
      "3829/3829 [==============================] - 16s 4ms/step - loss: 0.3232 - auc_21: 0.8862 - val_loss: 0.3325 - val_auc_21: 0.8796\n",
      "Epoch 49/1000\n",
      "3829/3829 [==============================] - 16s 4ms/step - loss: 0.3240 - auc_21: 0.8853 - val_loss: 0.3328 - val_auc_21: 0.8796\n",
      "Epoch 50/1000\n",
      "3829/3829 [==============================] - 16s 4ms/step - loss: 0.3237 - auc_21: 0.8857 - val_loss: 0.3313 - val_auc_21: 0.8807\n",
      "Epoch 51/1000\n",
      "3829/3829 [==============================] - 16s 4ms/step - loss: 0.3237 - auc_21: 0.8858 - val_loss: 0.3312 - val_auc_21: 0.8804\n",
      "Epoch 52/1000\n",
      "3829/3829 [==============================] - 16s 4ms/step - loss: 0.3231 - auc_21: 0.8861 - val_loss: 0.3323 - val_auc_21: 0.8787\n",
      "Epoch 53/1000\n",
      "3829/3829 [==============================] - 16s 4ms/step - loss: 0.3235 - auc_21: 0.8860 - val_loss: 0.3306 - val_auc_21: 0.8805\n",
      "Epoch 54/1000\n",
      "3829/3829 [==============================] - 18s 5ms/step - loss: 0.3237 - auc_21: 0.8857 - val_loss: 0.3311 - val_auc_21: 0.8805\n",
      "Epoch 55/1000\n",
      "3829/3829 [==============================] - 18s 5ms/step - loss: 0.3234 - auc_21: 0.8859 - val_loss: 0.3305 - val_auc_21: 0.8802\n",
      "Epoch 56/1000\n",
      "3829/3829 [==============================] - 16s 4ms/step - loss: 0.3235 - auc_21: 0.8861 - val_loss: 0.3296 - val_auc_21: 0.8814\n",
      "Epoch 57/1000\n",
      "3829/3829 [==============================] - 16s 4ms/step - loss: 0.3234 - auc_21: 0.8859 - val_loss: 0.3320 - val_auc_21: 0.8805\n",
      "Epoch 58/1000\n",
      "3829/3829 [==============================] - 16s 4ms/step - loss: 0.3232 - auc_21: 0.8861 - val_loss: 0.3313 - val_auc_21: 0.8796\n",
      "Epoch 59/1000\n",
      "3829/3829 [==============================] - 17s 4ms/step - loss: 0.3230 - auc_21: 0.8862 - val_loss: 0.3317 - val_auc_21: 0.8797\n",
      "Epoch 60/1000\n",
      "3829/3829 [==============================] - 16s 4ms/step - loss: 0.3232 - auc_21: 0.8860 - val_loss: 0.3303 - val_auc_21: 0.8815\n",
      "Epoch 61/1000\n",
      "3829/3829 [==============================] - 16s 4ms/step - loss: 0.3233 - auc_21: 0.8859 - val_loss: 0.3306 - val_auc_21: 0.8812\n",
      "Epoch 62/1000\n",
      "3829/3829 [==============================] - 16s 4ms/step - loss: 0.3232 - auc_21: 0.8862 - val_loss: 0.3322 - val_auc_21: 0.8811\n",
      "Epoch 63/1000\n",
      "3829/3829 [==============================] - 16s 4ms/step - loss: 0.3228 - auc_21: 0.8866 - val_loss: 0.3320 - val_auc_21: 0.8797\n",
      "Epoch 64/1000\n",
      "3829/3829 [==============================] - 16s 4ms/step - loss: 0.3237 - auc_21: 0.8857 - val_loss: 0.3315 - val_auc_21: 0.8796\n",
      "Epoch 65/1000\n",
      "3829/3829 [==============================] - 16s 4ms/step - loss: 0.3229 - auc_21: 0.8862 - val_loss: 0.3317 - val_auc_21: 0.8797\n",
      "Epoch 66/1000\n",
      "3829/3829 [==============================] - 16s 4ms/step - loss: 0.3231 - auc_21: 0.8862 - val_loss: 0.3321 - val_auc_21: 0.8799\n",
      "Epoch 67/1000\n",
      "3829/3829 [==============================] - 16s 4ms/step - loss: 0.3228 - auc_21: 0.8863 - val_loss: 0.3320 - val_auc_21: 0.8805\n"
     ]
    },
    {
     "data": {
      "text/plain": [
       "<keras.src.callbacks.History at 0x1c9c88eeef0>"
      ]
     },
     "execution_count": 217,
     "metadata": {},
     "output_type": "execute_result"
    }
   ],
   "source": [
    "model.fit(X,y,epochs=1000,validation_split=0.3, callbacks=[early_stopping])"
   ]
  },
  {
   "cell_type": "code",
   "execution_count": 218,
   "metadata": {},
   "outputs": [
    {
     "data": {
      "image/png": "[encoded data removed]",
      "text/plain": [
       "<Figure size 640x480 with 1 Axes>"
      ]
     },
     "metadata": {},
     "output_type": "display_data"
    }
   ],
   "source": [
    "history=pd.DataFrame(model.history.history)\n",
    "\n",
    "from matplotlib import pyplot as plt\n",
    "plt.plot(history['auc_21'],label='training')\n",
    "plt.plot(history['val_auc_21'],label='validation')\n",
    "plt.title(\"ROC_AUC curve\")\n",
    "plt.xlabel(\"Epoch\")\n",
    "plt.ylabel(\"Score\")\n",
    "plt.legend()\n",
    "plt.show()\n",
    "\n"
   ]
  },
  {
   "cell_type": "code",
   "execution_count": 219,
   "metadata": {},
   "outputs": [
    {
     "data": {
      "image/png": "[encoded data removed]",
      "text/plain": [
       "<Figure size 640x480 with 1 Axes>"
      ]
     },
     "metadata": {},
     "output_type": "display_data"
    }
   ],
   "source": [
    "plt.plot(history['loss'],label='train_loss')\n",
    "plt.plot(history['val_loss'],label='val_loss')\n",
    "plt.title(\"loss curve\")\n",
    "plt.xlabel(\"Epoch\")\n",
    "plt.ylabel(\"Loss\")\n",
    "plt.legend()\n",
    "plt.show()\n",
    "\n"
   ]
  },
  {
   "cell_type": "code",
   "execution_count": 178,
   "metadata": {},
   "outputs": [
    {
     "name": "stdout",
     "output_type": "stream",
     "text": [
      "5470/5470 [==============================] - 14s 3ms/step - loss: 0.3317 - auc_19: 0.8841\n"
     ]
    },
    {
     "data": {
      "text/plain": [
       "[0.3316916227340698, 0.8840901851654053]"
      ]
     },
     "execution_count": 178,
     "metadata": {},
     "output_type": "execute_result"
    }
   ],
   "source": [
    "model.evaluate(X,y)"
   ]
  },
  {
   "cell_type": "code",
   "execution_count": 179,
   "metadata": {},
   "outputs": [
    {
     "name": "stdout",
     "output_type": "stream",
     "text": [
      "5470/5470 [==============================] - 13s 2ms/step\n"
     ]
    }
   ],
   "source": [
    "from sklearn.metrics import classification_report\n",
    "y_pred=model.predict(X)"
   ]
  },
  {
   "cell_type": "code",
   "execution_count": 180,
   "metadata": {},
   "outputs": [
    {
     "name": "stdout",
     "output_type": "stream",
     "text": [
      "              precision    recall  f1-score   support\n",
      "\n",
      "           0       0.88      0.96      0.92    138073\n",
      "           1       0.78      0.49      0.60     36959\n",
      "\n",
      "    accuracy                           0.86    175032\n",
      "   macro avg       0.83      0.73      0.76    175032\n",
      "weighted avg       0.86      0.86      0.85    175032\n",
      "\n"
     ]
    }
   ],
   "source": [
    "print(classification_report(y,y_pred.round()))"
   ]
  },
  {
   "cell_type": "markdown",
   "metadata": {},
   "source": [
    "              precision    recall  f1-score   support\n",
    "\n",
    "           0       0.89      0.93      0.91    138073\n",
    "           1       0.68      0.59      0.63     36959\n",
    "\n",
    "    accuracy                           0.86    175032\n",
    "   macro avg       0.79      0.76      0.77    175032\n",
    "weighted avg       0.85      0.86      0.85    175032"
   ]
  },
  {
   "cell_type": "code",
   "execution_count": null,
   "metadata": {},
   "outputs": [],
   "source": []
  },
  {
   "cell_type": "code",
   "execution_count": 199,
   "metadata": {},
   "outputs": [
    {
     "data": {
      "text/plain": [
       "array([[0.472     , 1.        , 0.06756757, ..., 1.        , 0.        ,\n",
       "        0.        ],\n",
       "       [0.666     , 1.        , 0.37837838, ..., 1.        , 0.        ,\n",
       "        0.        ],\n",
       "       [0.612     , 1.        , 0.21621622, ..., 1.        , 0.        ,\n",
       "        0.        ],\n",
       "       ...,\n",
       "       [0.724     , 0.        , 0.17567568, ..., 1.        , 0.        ,\n",
       "        0.        ],\n",
       "       [0.718     , 1.        , 0.18918919, ..., 1.        , 0.        ,\n",
       "        0.        ],\n",
       "       [0.542     , 1.        , 0.25675676, ..., 1.        , 0.        ,\n",
       "        0.        ]])"
      ]
     },
     "execution_count": 199,
     "metadata": {},
     "output_type": "execute_result"
    }
   ],
   "source": [
    "test.drop(['id','CustomerId','Surname'],axis='columns',inplace=True)\n",
    "test.Gender = test.Gender.map({'Male':0,'Female':1})\n",
    "test = preprocessor.transform(test)\n",
    "\n",
    "test\n"
   ]
  },
  {
   "cell_type": "code",
   "execution_count": 200,
   "metadata": {},
   "outputs": [
    {
     "name": "stdout",
     "output_type": "stream",
     "text": [
      "3439/3439 [==============================] - 7s 2ms/step\n"
     ]
    },
    {
     "data": {
      "text/plain": [
       "array([[0.01058606],\n",
       "       [0.8576237 ],\n",
       "       [0.02110474],\n",
       "       ...,\n",
       "       [0.01076486],\n",
       "       [0.10692293],\n",
       "       [0.17873597]], dtype=float32)"
      ]
     },
     "execution_count": 200,
     "metadata": {},
     "output_type": "execute_result"
    }
   ],
   "source": [
    "y_pred=model.predict(test)\n",
    "y_pred"
   ]
  },
  {
   "cell_type": "code",
   "execution_count": 201,
   "metadata": {},
   "outputs": [
    {
     "data": {
      "text/html": [
       "<div>\n",
       "<style scoped>\n",
       "    .dataframe tbody tr th:only-of-type {\n",
       "        vertical-align: middle;\n",
       "    }\n",
       "\n",
       "    .dataframe tbody tr th {\n",
       "        vertical-align: top;\n",
       "    }\n",
       "\n",
       "    .dataframe thead th {\n",
       "        text-align: right;\n",
       "    }\n",
       "</style>\n",
       "<table border=\"1\" class=\"dataframe\">\n",
       "  <thead>\n",
       "    <tr style=\"text-align: right;\">\n",
       "      <th></th>\n",
       "      <th>Exited</th>\n",
       "    </tr>\n",
       "  </thead>\n",
       "  <tbody>\n",
       "    <tr>\n",
       "      <th>0</th>\n",
       "      <td>0.010586</td>\n",
       "    </tr>\n",
       "    <tr>\n",
       "      <th>1</th>\n",
       "      <td>0.857624</td>\n",
       "    </tr>\n",
       "    <tr>\n",
       "      <th>2</th>\n",
       "      <td>0.021105</td>\n",
       "    </tr>\n",
       "    <tr>\n",
       "      <th>3</th>\n",
       "      <td>0.320925</td>\n",
       "    </tr>\n",
       "    <tr>\n",
       "      <th>4</th>\n",
       "      <td>0.321608</td>\n",
       "    </tr>\n",
       "    <tr>\n",
       "      <th>...</th>\n",
       "      <td>...</td>\n",
       "    </tr>\n",
       "    <tr>\n",
       "      <th>110018</th>\n",
       "      <td>0.019397</td>\n",
       "    </tr>\n",
       "    <tr>\n",
       "      <th>110019</th>\n",
       "      <td>0.041594</td>\n",
       "    </tr>\n",
       "    <tr>\n",
       "      <th>110020</th>\n",
       "      <td>0.010765</td>\n",
       "    </tr>\n",
       "    <tr>\n",
       "      <th>110021</th>\n",
       "      <td>0.106923</td>\n",
       "    </tr>\n",
       "    <tr>\n",
       "      <th>110022</th>\n",
       "      <td>0.178736</td>\n",
       "    </tr>\n",
       "  </tbody>\n",
       "</table>\n",
       "<p>110023 rows × 1 columns</p>\n",
       "</div>"
      ],
      "text/plain": [
       "          Exited\n",
       "0       0.010586\n",
       "1       0.857624\n",
       "2       0.021105\n",
       "3       0.320925\n",
       "4       0.321608\n",
       "...          ...\n",
       "110018  0.019397\n",
       "110019  0.041594\n",
       "110020  0.010765\n",
       "110021  0.106923\n",
       "110022  0.178736\n",
       "\n",
       "[110023 rows x 1 columns]"
      ]
     },
     "execution_count": 201,
     "metadata": {},
     "output_type": "execute_result"
    }
   ],
   "source": [
    "y_pred=pd.DataFrame(y_pred,columns=['Exited'])\n",
    "y_pred"
   ]
  },
  {
   "cell_type": "code",
   "execution_count": 202,
   "metadata": {},
   "outputs": [
    {
     "data": {
      "text/html": [
       "<div>\n",
       "<style scoped>\n",
       "    .dataframe tbody tr th:only-of-type {\n",
       "        vertical-align: middle;\n",
       "    }\n",
       "\n",
       "    .dataframe tbody tr th {\n",
       "        vertical-align: top;\n",
       "    }\n",
       "\n",
       "    .dataframe thead th {\n",
       "        text-align: right;\n",
       "    }\n",
       "</style>\n",
       "<table border=\"1\" class=\"dataframe\">\n",
       "  <thead>\n",
       "    <tr style=\"text-align: right;\">\n",
       "      <th></th>\n",
       "      <th>id</th>\n",
       "      <th>Exited</th>\n",
       "    </tr>\n",
       "  </thead>\n",
       "  <tbody>\n",
       "    <tr>\n",
       "      <th>0</th>\n",
       "      <td>165034</td>\n",
       "      <td>0.5</td>\n",
       "    </tr>\n",
       "    <tr>\n",
       "      <th>1</th>\n",
       "      <td>165035</td>\n",
       "      <td>0.5</td>\n",
       "    </tr>\n",
       "    <tr>\n",
       "      <th>2</th>\n",
       "      <td>165036</td>\n",
       "      <td>0.5</td>\n",
       "    </tr>\n",
       "    <tr>\n",
       "      <th>3</th>\n",
       "      <td>165037</td>\n",
       "      <td>0.5</td>\n",
       "    </tr>\n",
       "    <tr>\n",
       "      <th>4</th>\n",
       "      <td>165038</td>\n",
       "      <td>0.5</td>\n",
       "    </tr>\n",
       "  </tbody>\n",
       "</table>\n",
       "</div>"
      ],
      "text/plain": [
       "       id  Exited\n",
       "0  165034     0.5\n",
       "1  165035     0.5\n",
       "2  165036     0.5\n",
       "3  165037     0.5\n",
       "4  165038     0.5"
      ]
     },
     "execution_count": 202,
     "metadata": {},
     "output_type": "execute_result"
    }
   ],
   "source": [
    "sample_sub=pd.read_csv('sample_submission.csv')\n",
    "sample_sub.head()"
   ]
  },
  {
   "cell_type": "code",
   "execution_count": 203,
   "metadata": {},
   "outputs": [
    {
     "data": {
      "text/html": [
       "<div>\n",
       "<style scoped>\n",
       "    .dataframe tbody tr th:only-of-type {\n",
       "        vertical-align: middle;\n",
       "    }\n",
       "\n",
       "    .dataframe tbody tr th {\n",
       "        vertical-align: top;\n",
       "    }\n",
       "\n",
       "    .dataframe thead th {\n",
       "        text-align: right;\n",
       "    }\n",
       "</style>\n",
       "<table border=\"1\" class=\"dataframe\">\n",
       "  <thead>\n",
       "    <tr style=\"text-align: right;\">\n",
       "      <th></th>\n",
       "      <th>id</th>\n",
       "      <th>Exited</th>\n",
       "    </tr>\n",
       "  </thead>\n",
       "  <tbody>\n",
       "    <tr>\n",
       "      <th>0</th>\n",
       "      <td>165034</td>\n",
       "      <td>0.010586</td>\n",
       "    </tr>\n",
       "    <tr>\n",
       "      <th>1</th>\n",
       "      <td>165035</td>\n",
       "      <td>0.857624</td>\n",
       "    </tr>\n",
       "    <tr>\n",
       "      <th>2</th>\n",
       "      <td>165036</td>\n",
       "      <td>0.021105</td>\n",
       "    </tr>\n",
       "    <tr>\n",
       "      <th>3</th>\n",
       "      <td>165037</td>\n",
       "      <td>0.320925</td>\n",
       "    </tr>\n",
       "    <tr>\n",
       "      <th>4</th>\n",
       "      <td>165038</td>\n",
       "      <td>0.321608</td>\n",
       "    </tr>\n",
       "  </tbody>\n",
       "</table>\n",
       "</div>"
      ],
      "text/plain": [
       "       id    Exited\n",
       "0  165034  0.010586\n",
       "1  165035  0.857624\n",
       "2  165036  0.021105\n",
       "3  165037  0.320925\n",
       "4  165038  0.321608"
      ]
     },
     "execution_count": 203,
     "metadata": {},
     "output_type": "execute_result"
    }
   ],
   "source": [
    "sub=pd.concat([sample_sub['id'],y_pred],axis=1)\n",
    "sub.head()"
   ]
  },
  {
   "cell_type": "code",
   "execution_count": 204,
   "metadata": {},
   "outputs": [],
   "source": [
    "sub.to_csv('submission7.csv',index=False)"
   ]
  },
  {
   "cell_type": "code",
   "execution_count": 205,
   "metadata": {},
   "outputs": [
    {
     "data": {
      "text/plain": [
       "(110023, 2)"
      ]
     },
     "execution_count": 205,
     "metadata": {},
     "output_type": "execute_result"
    }
   ],
   "source": [
    "sub.shape"
   ]
  },
  {
   "cell_type": "code",
   "execution_count": 209,
   "metadata": {},
   "outputs": [],
   "source": [
    "sub5=pd.read_csv('submission5.csv')\n",
    "sub4=pd.read_csv('submission4.csv')\n",
    "sub5['Exited']=sub['Exited']*0.3+sub5['Exited']*0.4+sub4['Exited']*0.3"
   ]
  },
  {
   "cell_type": "code",
   "execution_count": 210,
   "metadata": {},
   "outputs": [],
   "source": [
    "sub5.to_csv('submission9.csv',index=False)"
   ]
  },
  {
   "cell_type": "code",
   "execution_count": 211,
   "metadata": {},
   "outputs": [
    {
     "data": {
      "text/html": [
       "<div>\n",
       "<style scoped>\n",
       "    .dataframe tbody tr th:only-of-type {\n",
       "        vertical-align: middle;\n",
       "    }\n",
       "\n",
       "    .dataframe tbody tr th {\n",
       "        vertical-align: top;\n",
       "    }\n",
       "\n",
       "    .dataframe thead th {\n",
       "        text-align: right;\n",
       "    }\n",
       "</style>\n",
       "<table border=\"1\" class=\"dataframe\">\n",
       "  <thead>\n",
       "    <tr style=\"text-align: right;\">\n",
       "      <th></th>\n",
       "      <th>id</th>\n",
       "      <th>Exited</th>\n",
       "    </tr>\n",
       "  </thead>\n",
       "  <tbody>\n",
       "    <tr>\n",
       "      <th>0</th>\n",
       "      <td>165034</td>\n",
       "      <td>0.024140</td>\n",
       "    </tr>\n",
       "    <tr>\n",
       "      <th>1</th>\n",
       "      <td>165035</td>\n",
       "      <td>0.832150</td>\n",
       "    </tr>\n",
       "    <tr>\n",
       "      <th>2</th>\n",
       "      <td>165036</td>\n",
       "      <td>0.026743</td>\n",
       "    </tr>\n",
       "    <tr>\n",
       "      <th>3</th>\n",
       "      <td>165037</td>\n",
       "      <td>0.251847</td>\n",
       "    </tr>\n",
       "    <tr>\n",
       "      <th>4</th>\n",
       "      <td>165038</td>\n",
       "      <td>0.348715</td>\n",
       "    </tr>\n",
       "  </tbody>\n",
       "</table>\n",
       "</div>"
      ],
      "text/plain": [
       "       id    Exited\n",
       "0  165034  0.024140\n",
       "1  165035  0.832150\n",
       "2  165036  0.026743\n",
       "3  165037  0.251847\n",
       "4  165038  0.348715"
      ]
     },
     "execution_count": 211,
     "metadata": {},
     "output_type": "execute_result"
    }
   ],
   "source": [
    "sub5.head()"
   ]
  }
 ],
 "metadata": {
  "kernelspec": {
   "display_name": "mleng",
   "language": "python",
   "name": "python3"
  },
  "language_info": {
   "codemirror_mode": {
    "name": "ipython",
    "version": 3
   },
   "file_extension": ".py",
   "mimetype": "text/x-python",
   "name": "python",
   "nbconvert_exporter": "python",
   "pygments_lexer": "ipython3",
   "version": "3.10.13"
  }
 },
 "nbformat": 4,
 "nbformat_minor": 2
}
