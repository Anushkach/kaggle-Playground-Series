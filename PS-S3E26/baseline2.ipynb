{
 "cells": [
  {
   "cell_type": "code",
   "execution_count": 6,
   "metadata": {},
   "outputs": [],
   "source": [
    "from IPython.display import display, Markdown\n",
    "import numpy as np\n",
    "\n",
    "def set_frame_style(df,caption=\"\",font_size='20px'):\n",
    "\n",
    "    \"\"\"Helper function to set dataframe presentation style\"\"\"\n",
    "\n",
    "    random_list=['Greys','Purples','Blues','Greens','Oranges','Reds','YlOrBr','YlOrRd','OrRd','PuRd','RdPu','BuPu','GnBu','PuBu','YlGnBu','PuBuGn','BuGn','YlGn']\n",
    "    return df.style.background_gradient(cmap=np.random.choice(random_list).set_caption(caption).set_table_styles([{\n",
    "        'selector':'caption',\n",
    "        'props':[('color','Brown'),\n",
    "                 ('font-size',font_size),\n",
    "                 ('font-wight','bold')]\n",
    "    }]))\n",
    "\n",
    "\n"
   ]
  },
  {
   "cell_type": "code",
   "execution_count": null,
   "metadata": {},
   "outputs": [],
   "source": []
  }
 ],
 "metadata": {
  "kernelspec": {
   "display_name": "mleng",
   "language": "python",
   "name": "python3"
  },
  "language_info": {
   "codemirror_mode": {
    "name": "ipython",
    "version": 3
   },
   "file_extension": ".py",
   "mimetype": "text/x-python",
   "name": "python",
   "nbconvert_exporter": "python",
   "pygments_lexer": "ipython3",
   "version": "3.10.13"
  }
 },
 "nbformat": 4,
 "nbformat_minor": 2
}
