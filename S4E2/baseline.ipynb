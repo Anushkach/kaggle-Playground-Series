{
 "cells": [
  {
   "cell_type": "code",
   "execution_count": 158,
   "metadata": {},
   "outputs": [
    {
     "name": "stdout",
     "output_type": "stream",
     "text": [
      "Hello world\n"
     ]
    }
   ],
   "source": [
    "print('Hello world')"
   ]
  },
  {
   "cell_type": "code",
   "execution_count": 159,
   "metadata": {},
   "outputs": [],
   "source": [
    "import pandas as pd"
   ]
  },
  {
   "cell_type": "code",
   "execution_count": 160,
   "metadata": {},
   "outputs": [
    {
     "data": {
      "text/html": [
       "<div>\n",
       "<style scoped>\n",
       "    .dataframe tbody tr th:only-of-type {\n",
       "        vertical-align: middle;\n",
       "    }\n",
       "\n",
       "    .dataframe tbody tr th {\n",
       "        vertical-align: top;\n",
       "    }\n",
       "\n",
       "    .dataframe thead th {\n",
       "        text-align: right;\n",
       "    }\n",
       "</style>\n",
       "<table border=\"1\" class=\"dataframe\">\n",
       "  <thead>\n",
       "    <tr style=\"text-align: right;\">\n",
       "      <th></th>\n",
       "      <th>id</th>\n",
       "      <th>Gender</th>\n",
       "      <th>Age</th>\n",
       "      <th>Height</th>\n",
       "      <th>Weight</th>\n",
       "      <th>family_history_with_overweight</th>\n",
       "      <th>FAVC</th>\n",
       "      <th>FCVC</th>\n",
       "      <th>NCP</th>\n",
       "      <th>CAEC</th>\n",
       "      <th>SMOKE</th>\n",
       "      <th>CH2O</th>\n",
       "      <th>SCC</th>\n",
       "      <th>FAF</th>\n",
       "      <th>TUE</th>\n",
       "      <th>CALC</th>\n",
       "      <th>MTRANS</th>\n",
       "      <th>NObeyesdad</th>\n",
       "    </tr>\n",
       "  </thead>\n",
       "  <tbody>\n",
       "    <tr>\n",
       "      <th>0</th>\n",
       "      <td>0</td>\n",
       "      <td>Male</td>\n",
       "      <td>24.443011</td>\n",
       "      <td>1.699998</td>\n",
       "      <td>81.669950</td>\n",
       "      <td>yes</td>\n",
       "      <td>yes</td>\n",
       "      <td>2.000000</td>\n",
       "      <td>2.983297</td>\n",
       "      <td>Sometimes</td>\n",
       "      <td>no</td>\n",
       "      <td>2.763573</td>\n",
       "      <td>no</td>\n",
       "      <td>0.000000</td>\n",
       "      <td>0.976473</td>\n",
       "      <td>Sometimes</td>\n",
       "      <td>Public_Transportation</td>\n",
       "      <td>Overweight_Level_II</td>\n",
       "    </tr>\n",
       "    <tr>\n",
       "      <th>1</th>\n",
       "      <td>1</td>\n",
       "      <td>Female</td>\n",
       "      <td>18.000000</td>\n",
       "      <td>1.560000</td>\n",
       "      <td>57.000000</td>\n",
       "      <td>yes</td>\n",
       "      <td>yes</td>\n",
       "      <td>2.000000</td>\n",
       "      <td>3.000000</td>\n",
       "      <td>Frequently</td>\n",
       "      <td>no</td>\n",
       "      <td>2.000000</td>\n",
       "      <td>no</td>\n",
       "      <td>1.000000</td>\n",
       "      <td>1.000000</td>\n",
       "      <td>no</td>\n",
       "      <td>Automobile</td>\n",
       "      <td>Normal_Weight</td>\n",
       "    </tr>\n",
       "    <tr>\n",
       "      <th>2</th>\n",
       "      <td>2</td>\n",
       "      <td>Female</td>\n",
       "      <td>18.000000</td>\n",
       "      <td>1.711460</td>\n",
       "      <td>50.165754</td>\n",
       "      <td>yes</td>\n",
       "      <td>yes</td>\n",
       "      <td>1.880534</td>\n",
       "      <td>1.411685</td>\n",
       "      <td>Sometimes</td>\n",
       "      <td>no</td>\n",
       "      <td>1.910378</td>\n",
       "      <td>no</td>\n",
       "      <td>0.866045</td>\n",
       "      <td>1.673584</td>\n",
       "      <td>no</td>\n",
       "      <td>Public_Transportation</td>\n",
       "      <td>Insufficient_Weight</td>\n",
       "    </tr>\n",
       "    <tr>\n",
       "      <th>3</th>\n",
       "      <td>3</td>\n",
       "      <td>Female</td>\n",
       "      <td>20.952737</td>\n",
       "      <td>1.710730</td>\n",
       "      <td>131.274851</td>\n",
       "      <td>yes</td>\n",
       "      <td>yes</td>\n",
       "      <td>3.000000</td>\n",
       "      <td>3.000000</td>\n",
       "      <td>Sometimes</td>\n",
       "      <td>no</td>\n",
       "      <td>1.674061</td>\n",
       "      <td>no</td>\n",
       "      <td>1.467863</td>\n",
       "      <td>0.780199</td>\n",
       "      <td>Sometimes</td>\n",
       "      <td>Public_Transportation</td>\n",
       "      <td>Obesity_Type_III</td>\n",
       "    </tr>\n",
       "    <tr>\n",
       "      <th>4</th>\n",
       "      <td>4</td>\n",
       "      <td>Male</td>\n",
       "      <td>31.641081</td>\n",
       "      <td>1.914186</td>\n",
       "      <td>93.798055</td>\n",
       "      <td>yes</td>\n",
       "      <td>yes</td>\n",
       "      <td>2.679664</td>\n",
       "      <td>1.971472</td>\n",
       "      <td>Sometimes</td>\n",
       "      <td>no</td>\n",
       "      <td>1.979848</td>\n",
       "      <td>no</td>\n",
       "      <td>1.967973</td>\n",
       "      <td>0.931721</td>\n",
       "      <td>Sometimes</td>\n",
       "      <td>Public_Transportation</td>\n",
       "      <td>Overweight_Level_II</td>\n",
       "    </tr>\n",
       "  </tbody>\n",
       "</table>\n",
       "</div>"
      ],
      "text/plain": [
       "   id  Gender        Age    Height      Weight family_history_with_overweight  \\\n",
       "0   0    Male  24.443011  1.699998   81.669950                            yes   \n",
       "1   1  Female  18.000000  1.560000   57.000000                            yes   \n",
       "2   2  Female  18.000000  1.711460   50.165754                            yes   \n",
       "3   3  Female  20.952737  1.710730  131.274851                            yes   \n",
       "4   4    Male  31.641081  1.914186   93.798055                            yes   \n",
       "\n",
       "  FAVC      FCVC       NCP        CAEC SMOKE      CH2O SCC       FAF  \\\n",
       "0  yes  2.000000  2.983297   Sometimes    no  2.763573  no  0.000000   \n",
       "1  yes  2.000000  3.000000  Frequently    no  2.000000  no  1.000000   \n",
       "2  yes  1.880534  1.411685   Sometimes    no  1.910378  no  0.866045   \n",
       "3  yes  3.000000  3.000000   Sometimes    no  1.674061  no  1.467863   \n",
       "4  yes  2.679664  1.971472   Sometimes    no  1.979848  no  1.967973   \n",
       "\n",
       "        TUE       CALC                 MTRANS           NObeyesdad  \n",
       "0  0.976473  Sometimes  Public_Transportation  Overweight_Level_II  \n",
       "1  1.000000         no             Automobile        Normal_Weight  \n",
       "2  1.673584         no  Public_Transportation  Insufficient_Weight  \n",
       "3  0.780199  Sometimes  Public_Transportation     Obesity_Type_III  \n",
       "4  0.931721  Sometimes  Public_Transportation  Overweight_Level_II  "
      ]
     },
     "execution_count": 160,
     "metadata": {},
     "output_type": "execute_result"
    }
   ],
   "source": [
    "train=pd.read_csv('train.csv')\n",
    "test=pd.read_csv('test.csv')\n",
    "train.head()"
   ]
  },
  {
   "cell_type": "code",
   "execution_count": 161,
   "metadata": {},
   "outputs": [
    {
     "data": {
      "text/plain": [
       "((20758, 18), (13840, 17))"
      ]
     },
     "execution_count": 161,
     "metadata": {},
     "output_type": "execute_result"
    }
   ],
   "source": [
    "train.shape,test.shape"
   ]
  },
  {
   "cell_type": "code",
   "execution_count": 162,
   "metadata": {},
   "outputs": [
    {
     "data": {
      "text/plain": [
       "(0, 0)"
      ]
     },
     "execution_count": 162,
     "metadata": {},
     "output_type": "execute_result"
    }
   ],
   "source": [
    "train.isnull().sum().sum(),test.isnull().sum().sum()"
   ]
  },
  {
   "cell_type": "code",
   "execution_count": 163,
   "metadata": {},
   "outputs": [
    {
     "data": {
      "text/plain": [
       "NObeyesdad\n",
       "Obesity_Type_III       4046\n",
       "Obesity_Type_II        3248\n",
       "Normal_Weight          3082\n",
       "Obesity_Type_I         2910\n",
       "Insufficient_Weight    2523\n",
       "Overweight_Level_II    2522\n",
       "Overweight_Level_I     2427\n",
       "Name: count, dtype: int64"
      ]
     },
     "execution_count": 163,
     "metadata": {},
     "output_type": "execute_result"
    }
   ],
   "source": [
    "train['NObeyesdad'].value_counts()"
   ]
  },
  {
   "cell_type": "code",
   "execution_count": 164,
   "metadata": {},
   "outputs": [
    {
     "data": {
      "image/png": "[encoded data removed]",
      "text/plain": [
       "<Figure size 640x480 with 1 Axes>"
      ]
     },
     "metadata": {},
     "output_type": "display_data"
    }
   ],
   "source": [
    "train['NObeyesdad'].value_counts().plot(kind='bar');\n"
   ]
  },
  {
   "cell_type": "code",
   "execution_count": 165,
   "metadata": {},
   "outputs": [
    {
     "data": {
      "text/plain": [
       "Index(['id', 'Gender', 'Age', 'Height', 'Weight',\n",
       "       'family_history_with_overweight', 'FAVC', 'FCVC', 'NCP', 'CAEC',\n",
       "       'SMOKE', 'CH2O', 'SCC', 'FAF', 'TUE', 'CALC', 'MTRANS', 'NObeyesdad'],\n",
       "      dtype='object')"
      ]
     },
     "execution_count": 165,
     "metadata": {},
     "output_type": "execute_result"
    }
   ],
   "source": [
    "train.columns"
   ]
  },
  {
   "cell_type": "code",
   "execution_count": 166,
   "metadata": {},
   "outputs": [
    {
     "data": {
      "text/plain": [
       "id                                  int64\n",
       "Gender                             object\n",
       "Age                               float64\n",
       "Height                            float64\n",
       "Weight                            float64\n",
       "family_history_with_overweight     object\n",
       "FAVC                               object\n",
       "FCVC                              float64\n",
       "NCP                               float64\n",
       "CAEC                               object\n",
       "SMOKE                              object\n",
       "CH2O                              float64\n",
       "SCC                                object\n",
       "FAF                               float64\n",
       "TUE                               float64\n",
       "CALC                               object\n",
       "MTRANS                             object\n",
       "NObeyesdad                         object\n",
       "dtype: object"
      ]
     },
     "execution_count": 166,
     "metadata": {},
     "output_type": "execute_result"
    }
   ],
   "source": [
    "train.dtypes"
   ]
  },
  {
   "cell_type": "code",
   "execution_count": 167,
   "metadata": {},
   "outputs": [],
   "source": [
    "from sklearn.preprocessing import LabelEncoder\n",
    "le=LabelEncoder()\n",
    "cat_cols=['Gender','family_history_with_overweight','FAVC','CAEC', 'SMOKE', 'SCC', 'CALC', 'MTRANS']\n",
    "\n",
    "for col in cat_cols:\n",
    "    train[col]=le.fit_transform(train[col])\n",
    "    test[col]=le.fit_transform(test[col])\n",
    "\n",
    "train['NObeyesdad']=le.fit_transform(train['NObeyesdad'])"
   ]
  },
  {
   "cell_type": "code",
   "execution_count": 168,
   "metadata": {},
   "outputs": [
    {
     "data": {
      "text/html": [
       "<div>\n",
       "<style scoped>\n",
       "    .dataframe tbody tr th:only-of-type {\n",
       "        vertical-align: middle;\n",
       "    }\n",
       "\n",
       "    .dataframe tbody tr th {\n",
       "        vertical-align: top;\n",
       "    }\n",
       "\n",
       "    .dataframe thead th {\n",
       "        text-align: right;\n",
       "    }\n",
       "</style>\n",
       "<table border=\"1\" class=\"dataframe\">\n",
       "  <thead>\n",
       "    <tr style=\"text-align: right;\">\n",
       "      <th></th>\n",
       "      <th>id</th>\n",
       "      <th>Gender</th>\n",
       "      <th>Age</th>\n",
       "      <th>Height</th>\n",
       "      <th>Weight</th>\n",
       "      <th>family_history_with_overweight</th>\n",
       "      <th>FAVC</th>\n",
       "      <th>FCVC</th>\n",
       "      <th>NCP</th>\n",
       "      <th>CAEC</th>\n",
       "      <th>SMOKE</th>\n",
       "      <th>CH2O</th>\n",
       "      <th>SCC</th>\n",
       "      <th>FAF</th>\n",
       "      <th>TUE</th>\n",
       "      <th>CALC</th>\n",
       "      <th>MTRANS</th>\n",
       "      <th>NObeyesdad</th>\n",
       "    </tr>\n",
       "  </thead>\n",
       "  <tbody>\n",
       "    <tr>\n",
       "      <th>count</th>\n",
       "      <td>20758.00000</td>\n",
       "      <td>20758.000000</td>\n",
       "      <td>20758.000000</td>\n",
       "      <td>20758.000000</td>\n",
       "      <td>20758.000000</td>\n",
       "      <td>20758.000000</td>\n",
       "      <td>20758.000000</td>\n",
       "      <td>20758.000000</td>\n",
       "      <td>20758.000000</td>\n",
       "      <td>20758.000000</td>\n",
       "      <td>20758.000000</td>\n",
       "      <td>20758.000000</td>\n",
       "      <td>20758.000000</td>\n",
       "      <td>20758.000000</td>\n",
       "      <td>20758.000000</td>\n",
       "      <td>20758.000000</td>\n",
       "      <td>20758.000000</td>\n",
       "      <td>20758.000000</td>\n",
       "    </tr>\n",
       "    <tr>\n",
       "      <th>mean</th>\n",
       "      <td>10378.50000</td>\n",
       "      <td>0.497929</td>\n",
       "      <td>23.841804</td>\n",
       "      <td>1.700245</td>\n",
       "      <td>87.887768</td>\n",
       "      <td>0.819636</td>\n",
       "      <td>0.914443</td>\n",
       "      <td>2.445908</td>\n",
       "      <td>2.761332</td>\n",
       "      <td>1.848299</td>\n",
       "      <td>0.011803</td>\n",
       "      <td>2.029418</td>\n",
       "      <td>0.033096</td>\n",
       "      <td>0.981747</td>\n",
       "      <td>0.616756</td>\n",
       "      <td>1.223239</td>\n",
       "      <td>2.506841</td>\n",
       "      <td>2.991473</td>\n",
       "    </tr>\n",
       "    <tr>\n",
       "      <th>std</th>\n",
       "      <td>5992.46278</td>\n",
       "      <td>0.500008</td>\n",
       "      <td>5.688072</td>\n",
       "      <td>0.087312</td>\n",
       "      <td>26.379443</td>\n",
       "      <td>0.384500</td>\n",
       "      <td>0.279716</td>\n",
       "      <td>0.533218</td>\n",
       "      <td>0.705375</td>\n",
       "      <td>0.449036</td>\n",
       "      <td>0.108000</td>\n",
       "      <td>0.608467</td>\n",
       "      <td>0.178891</td>\n",
       "      <td>0.838302</td>\n",
       "      <td>0.602113</td>\n",
       "      <td>0.473690</td>\n",
       "      <td>1.148730</td>\n",
       "      <td>1.893176</td>\n",
       "    </tr>\n",
       "    <tr>\n",
       "      <th>min</th>\n",
       "      <td>0.00000</td>\n",
       "      <td>0.000000</td>\n",
       "      <td>14.000000</td>\n",
       "      <td>1.450000</td>\n",
       "      <td>39.000000</td>\n",
       "      <td>0.000000</td>\n",
       "      <td>0.000000</td>\n",
       "      <td>1.000000</td>\n",
       "      <td>1.000000</td>\n",
       "      <td>0.000000</td>\n",
       "      <td>0.000000</td>\n",
       "      <td>1.000000</td>\n",
       "      <td>0.000000</td>\n",
       "      <td>0.000000</td>\n",
       "      <td>0.000000</td>\n",
       "      <td>0.000000</td>\n",
       "      <td>0.000000</td>\n",
       "      <td>0.000000</td>\n",
       "    </tr>\n",
       "    <tr>\n",
       "      <th>25%</th>\n",
       "      <td>5189.25000</td>\n",
       "      <td>0.000000</td>\n",
       "      <td>20.000000</td>\n",
       "      <td>1.631856</td>\n",
       "      <td>66.000000</td>\n",
       "      <td>1.000000</td>\n",
       "      <td>1.000000</td>\n",
       "      <td>2.000000</td>\n",
       "      <td>3.000000</td>\n",
       "      <td>2.000000</td>\n",
       "      <td>0.000000</td>\n",
       "      <td>1.792022</td>\n",
       "      <td>0.000000</td>\n",
       "      <td>0.008013</td>\n",
       "      <td>0.000000</td>\n",
       "      <td>1.000000</td>\n",
       "      <td>3.000000</td>\n",
       "      <td>1.000000</td>\n",
       "    </tr>\n",
       "    <tr>\n",
       "      <th>50%</th>\n",
       "      <td>10378.50000</td>\n",
       "      <td>0.000000</td>\n",
       "      <td>22.815416</td>\n",
       "      <td>1.700000</td>\n",
       "      <td>84.064875</td>\n",
       "      <td>1.000000</td>\n",
       "      <td>1.000000</td>\n",
       "      <td>2.393837</td>\n",
       "      <td>3.000000</td>\n",
       "      <td>2.000000</td>\n",
       "      <td>0.000000</td>\n",
       "      <td>2.000000</td>\n",
       "      <td>0.000000</td>\n",
       "      <td>1.000000</td>\n",
       "      <td>0.573887</td>\n",
       "      <td>1.000000</td>\n",
       "      <td>3.000000</td>\n",
       "      <td>3.000000</td>\n",
       "    </tr>\n",
       "    <tr>\n",
       "      <th>75%</th>\n",
       "      <td>15567.75000</td>\n",
       "      <td>1.000000</td>\n",
       "      <td>26.000000</td>\n",
       "      <td>1.762887</td>\n",
       "      <td>111.600553</td>\n",
       "      <td>1.000000</td>\n",
       "      <td>1.000000</td>\n",
       "      <td>3.000000</td>\n",
       "      <td>3.000000</td>\n",
       "      <td>2.000000</td>\n",
       "      <td>0.000000</td>\n",
       "      <td>2.549617</td>\n",
       "      <td>0.000000</td>\n",
       "      <td>1.587406</td>\n",
       "      <td>1.000000</td>\n",
       "      <td>1.000000</td>\n",
       "      <td>3.000000</td>\n",
       "      <td>4.000000</td>\n",
       "    </tr>\n",
       "    <tr>\n",
       "      <th>max</th>\n",
       "      <td>20757.00000</td>\n",
       "      <td>1.000000</td>\n",
       "      <td>61.000000</td>\n",
       "      <td>1.975663</td>\n",
       "      <td>165.057269</td>\n",
       "      <td>1.000000</td>\n",
       "      <td>1.000000</td>\n",
       "      <td>3.000000</td>\n",
       "      <td>4.000000</td>\n",
       "      <td>3.000000</td>\n",
       "      <td>1.000000</td>\n",
       "      <td>3.000000</td>\n",
       "      <td>1.000000</td>\n",
       "      <td>3.000000</td>\n",
       "      <td>2.000000</td>\n",
       "      <td>2.000000</td>\n",
       "      <td>4.000000</td>\n",
       "      <td>6.000000</td>\n",
       "    </tr>\n",
       "  </tbody>\n",
       "</table>\n",
       "</div>"
      ],
      "text/plain": [
       "                id        Gender           Age        Height        Weight  \\\n",
       "count  20758.00000  20758.000000  20758.000000  20758.000000  20758.000000   \n",
       "mean   10378.50000      0.497929     23.841804      1.700245     87.887768   \n",
       "std     5992.46278      0.500008      5.688072      0.087312     26.379443   \n",
       "min        0.00000      0.000000     14.000000      1.450000     39.000000   \n",
       "25%     5189.25000      0.000000     20.000000      1.631856     66.000000   \n",
       "50%    10378.50000      0.000000     22.815416      1.700000     84.064875   \n",
       "75%    15567.75000      1.000000     26.000000      1.762887    111.600553   \n",
       "max    20757.00000      1.000000     61.000000      1.975663    165.057269   \n",
       "\n",
       "       family_history_with_overweight          FAVC          FCVC  \\\n",
       "count                    20758.000000  20758.000000  20758.000000   \n",
       "mean                         0.819636      0.914443      2.445908   \n",
       "std                          0.384500      0.279716      0.533218   \n",
       "min                          0.000000      0.000000      1.000000   \n",
       "25%                          1.000000      1.000000      2.000000   \n",
       "50%                          1.000000      1.000000      2.393837   \n",
       "75%                          1.000000      1.000000      3.000000   \n",
       "max                          1.000000      1.000000      3.000000   \n",
       "\n",
       "                NCP          CAEC         SMOKE          CH2O           SCC  \\\n",
       "count  20758.000000  20758.000000  20758.000000  20758.000000  20758.000000   \n",
       "mean       2.761332      1.848299      0.011803      2.029418      0.033096   \n",
       "std        0.705375      0.449036      0.108000      0.608467      0.178891   \n",
       "min        1.000000      0.000000      0.000000      1.000000      0.000000   \n",
       "25%        3.000000      2.000000      0.000000      1.792022      0.000000   \n",
       "50%        3.000000      2.000000      0.000000      2.000000      0.000000   \n",
       "75%        3.000000      2.000000      0.000000      2.549617      0.000000   \n",
       "max        4.000000      3.000000      1.000000      3.000000      1.000000   \n",
       "\n",
       "                FAF           TUE          CALC        MTRANS    NObeyesdad  \n",
       "count  20758.000000  20758.000000  20758.000000  20758.000000  20758.000000  \n",
       "mean       0.981747      0.616756      1.223239      2.506841      2.991473  \n",
       "std        0.838302      0.602113      0.473690      1.148730      1.893176  \n",
       "min        0.000000      0.000000      0.000000      0.000000      0.000000  \n",
       "25%        0.008013      0.000000      1.000000      3.000000      1.000000  \n",
       "50%        1.000000      0.573887      1.000000      3.000000      3.000000  \n",
       "75%        1.587406      1.000000      1.000000      3.000000      4.000000  \n",
       "max        3.000000      2.000000      2.000000      4.000000      6.000000  "
      ]
     },
     "execution_count": 168,
     "metadata": {},
     "output_type": "execute_result"
    }
   ],
   "source": [
    "train.describe()"
   ]
  },
  {
   "cell_type": "code",
   "execution_count": 169,
   "metadata": {},
   "outputs": [
    {
     "data": {
      "text/plain": [
       "Index(['Gender', 'Age', 'Height', 'Weight', 'family_history_with_overweight',\n",
       "       'FAVC', 'FCVC', 'NCP', 'CAEC', 'SMOKE', 'CH2O', 'SCC', 'FAF', 'TUE',\n",
       "       'CALC', 'MTRANS'],\n",
       "      dtype='object')"
      ]
     },
     "execution_count": 169,
     "metadata": {},
     "output_type": "execute_result"
    }
   ],
   "source": [
    "from sklearn.preprocessing import StandardScaler\n",
    "scaler=StandardScaler()\n",
    "feat_cols=train.columns.drop(['id','NObeyesdad'])\n",
    "feat_cols\n"
   ]
  },
  {
   "cell_type": "code",
   "execution_count": 170,
   "metadata": {},
   "outputs": [
    {
     "data": {
      "text/html": [
       "<div>\n",
       "<style scoped>\n",
       "    .dataframe tbody tr th:only-of-type {\n",
       "        vertical-align: middle;\n",
       "    }\n",
       "\n",
       "    .dataframe tbody tr th {\n",
       "        vertical-align: top;\n",
       "    }\n",
       "\n",
       "    .dataframe thead th {\n",
       "        text-align: right;\n",
       "    }\n",
       "</style>\n",
       "<table border=\"1\" class=\"dataframe\">\n",
       "  <thead>\n",
       "    <tr style=\"text-align: right;\">\n",
       "      <th></th>\n",
       "      <th>id</th>\n",
       "      <th>Gender</th>\n",
       "      <th>Age</th>\n",
       "      <th>Height</th>\n",
       "      <th>Weight</th>\n",
       "      <th>family_history_with_overweight</th>\n",
       "      <th>FAVC</th>\n",
       "      <th>FCVC</th>\n",
       "      <th>NCP</th>\n",
       "      <th>CAEC</th>\n",
       "      <th>SMOKE</th>\n",
       "      <th>CH2O</th>\n",
       "      <th>SCC</th>\n",
       "      <th>FAF</th>\n",
       "      <th>TUE</th>\n",
       "      <th>CALC</th>\n",
       "      <th>MTRANS</th>\n",
       "      <th>NObeyesdad</th>\n",
       "    </tr>\n",
       "  </thead>\n",
       "  <tbody>\n",
       "    <tr>\n",
       "      <th>0</th>\n",
       "      <td>0</td>\n",
       "      <td>1.004152</td>\n",
       "      <td>0.105699</td>\n",
       "      <td>-0.002828</td>\n",
       "      <td>-0.235713</td>\n",
       "      <td>0.469099</td>\n",
       "      <td>0.30588</td>\n",
       "      <td>-0.836279</td>\n",
       "      <td>0.314684</td>\n",
       "      <td>0.337845</td>\n",
       "      <td>-0.109287</td>\n",
       "      <td>1.206594</td>\n",
       "      <td>-0.185009</td>\n",
       "      <td>-1.171141</td>\n",
       "      <td>0.597438</td>\n",
       "      <td>-0.471288</td>\n",
       "      <td>0.429319</td>\n",
       "      <td>6</td>\n",
       "    </tr>\n",
       "    <tr>\n",
       "      <th>1</th>\n",
       "      <td>1</td>\n",
       "      <td>-0.995866</td>\n",
       "      <td>-1.027052</td>\n",
       "      <td>-1.606291</td>\n",
       "      <td>-1.170931</td>\n",
       "      <td>0.469099</td>\n",
       "      <td>0.30588</td>\n",
       "      <td>-0.836279</td>\n",
       "      <td>0.338364</td>\n",
       "      <td>-1.889204</td>\n",
       "      <td>-0.109287</td>\n",
       "      <td>-0.048349</td>\n",
       "      <td>-0.185009</td>\n",
       "      <td>0.021775</td>\n",
       "      <td>0.636513</td>\n",
       "      <td>1.639846</td>\n",
       "      <td>-2.182324</td>\n",
       "      <td>1</td>\n",
       "    </tr>\n",
       "    <tr>\n",
       "      <th>2</th>\n",
       "      <td>2</td>\n",
       "      <td>-0.995866</td>\n",
       "      <td>-1.027052</td>\n",
       "      <td>0.128451</td>\n",
       "      <td>-1.430012</td>\n",
       "      <td>0.469099</td>\n",
       "      <td>0.30588</td>\n",
       "      <td>-1.060332</td>\n",
       "      <td>-1.913423</td>\n",
       "      <td>0.337845</td>\n",
       "      <td>-0.109287</td>\n",
       "      <td>-0.195644</td>\n",
       "      <td>-0.185009</td>\n",
       "      <td>-0.138022</td>\n",
       "      <td>1.755239</td>\n",
       "      <td>1.639846</td>\n",
       "      <td>0.429319</td>\n",
       "      <td>0</td>\n",
       "    </tr>\n",
       "    <tr>\n",
       "      <th>3</th>\n",
       "      <td>3</td>\n",
       "      <td>-0.995866</td>\n",
       "      <td>-0.507929</td>\n",
       "      <td>0.120090</td>\n",
       "      <td>1.644770</td>\n",
       "      <td>0.469099</td>\n",
       "      <td>0.30588</td>\n",
       "      <td>1.039171</td>\n",
       "      <td>0.338364</td>\n",
       "      <td>0.337845</td>\n",
       "      <td>-0.109287</td>\n",
       "      <td>-0.584035</td>\n",
       "      <td>-0.185009</td>\n",
       "      <td>0.579896</td>\n",
       "      <td>0.271455</td>\n",
       "      <td>-0.471288</td>\n",
       "      <td>0.429319</td>\n",
       "      <td>4</td>\n",
       "    </tr>\n",
       "    <tr>\n",
       "      <th>4</th>\n",
       "      <td>4</td>\n",
       "      <td>1.004152</td>\n",
       "      <td>1.371197</td>\n",
       "      <td>2.450367</td>\n",
       "      <td>0.224054</td>\n",
       "      <td>0.469099</td>\n",
       "      <td>0.30588</td>\n",
       "      <td>0.438397</td>\n",
       "      <td>-1.119801</td>\n",
       "      <td>0.337845</td>\n",
       "      <td>-0.109287</td>\n",
       "      <td>-0.081469</td>\n",
       "      <td>-0.185009</td>\n",
       "      <td>1.176486</td>\n",
       "      <td>0.523111</td>\n",
       "      <td>-0.471288</td>\n",
       "      <td>0.429319</td>\n",
       "      <td>6</td>\n",
       "    </tr>\n",
       "  </tbody>\n",
       "</table>\n",
       "</div>"
      ],
      "text/plain": [
       "   id    Gender       Age    Height    Weight  family_history_with_overweight  \\\n",
       "0   0  1.004152  0.105699 -0.002828 -0.235713                        0.469099   \n",
       "1   1 -0.995866 -1.027052 -1.606291 -1.170931                        0.469099   \n",
       "2   2 -0.995866 -1.027052  0.128451 -1.430012                        0.469099   \n",
       "3   3 -0.995866 -0.507929  0.120090  1.644770                        0.469099   \n",
       "4   4  1.004152  1.371197  2.450367  0.224054                        0.469099   \n",
       "\n",
       "      FAVC      FCVC       NCP      CAEC     SMOKE      CH2O       SCC  \\\n",
       "0  0.30588 -0.836279  0.314684  0.337845 -0.109287  1.206594 -0.185009   \n",
       "1  0.30588 -0.836279  0.338364 -1.889204 -0.109287 -0.048349 -0.185009   \n",
       "2  0.30588 -1.060332 -1.913423  0.337845 -0.109287 -0.195644 -0.185009   \n",
       "3  0.30588  1.039171  0.338364  0.337845 -0.109287 -0.584035 -0.185009   \n",
       "4  0.30588  0.438397 -1.119801  0.337845 -0.109287 -0.081469 -0.185009   \n",
       "\n",
       "        FAF       TUE      CALC    MTRANS  NObeyesdad  \n",
       "0 -1.171141  0.597438 -0.471288  0.429319           6  \n",
       "1  0.021775  0.636513  1.639846 -2.182324           1  \n",
       "2 -0.138022  1.755239  1.639846  0.429319           0  \n",
       "3  0.579896  0.271455 -0.471288  0.429319           4  \n",
       "4  1.176486  0.523111 -0.471288  0.429319           6  "
      ]
     },
     "execution_count": 170,
     "metadata": {},
     "output_type": "execute_result"
    }
   ],
   "source": [
    "from sklearn.preprocessing import StandardScaler\n",
    "scaler=StandardScaler()\n",
    "for col in feat_cols:\n",
    "    train[col]=scaler.fit_transform(train[col].values.reshape(-1,1))\n",
    "    test[col]=scaler.transform(test[col].values.reshape(-1,1))\n",
    "train.head()"
   ]
  },
  {
   "cell_type": "code",
   "execution_count": 171,
   "metadata": {},
   "outputs": [],
   "source": [
    "X=train.drop(columns=['id','NObeyesdad'],axis=1)\n",
    "y=train['NObeyesdad']\n",
    "\n",
    "test.drop(columns=['id'],axis=1,inplace=True)"
   ]
  },
  {
   "cell_type": "code",
   "execution_count": 172,
   "metadata": {},
   "outputs": [
    {
     "data": {
      "text/plain": [
       "array([0.84128131, 0.84561657, 0.84657996, 0.84871115, 0.84557938])"
      ]
     },
     "execution_count": 172,
     "metadata": {},
     "output_type": "execute_result"
    }
   ],
   "source": [
    "from sklearn.metrics import accuracy_score\n",
    "from sklearn.tree import DecisionTreeClassifier\n",
    "model_DT=DecisionTreeClassifier()\n",
    "\n",
    "from sklearn.model_selection import train_test_split, cross_val_score, StratifiedKFold\n",
    "scores=cross_val_score(model_DT,X,y,cv=5)\n",
    "scores\n"
   ]
  },
  {
   "cell_type": "code",
   "execution_count": 173,
   "metadata": {},
   "outputs": [],
   "source": [
    "from sklearn.ensemble import RandomForestClassifier\n",
    "model_RF=RandomForestClassifier(n_estimators=100,\n",
    "                             random_state=42,\n",
    "                             max_depth=None,\n",
    "                             min_samples_split=2,\n",
    "                             min_samples_leaf=1)"
   ]
  },
  {
   "cell_type": "code",
   "execution_count": 174,
   "metadata": {},
   "outputs": [
    {
     "name": "stdout",
     "output_type": "stream",
     "text": [
      "Accuracy score: 0.9070327552986512\n",
      "Accuracy score: 0.8942678227360308\n",
      "Accuracy score: 0.905587668593449\n",
      "Accuracy score: 0.8944832570464948\n",
      "Accuracy score: 0.8976150325222838\n"
     ]
    }
   ],
   "source": [
    "kf=StratifiedKFold(n_splits=5,shuffle=True,random_state=42)\n",
    "for train_idx,test_idx in kf.split(X,y):\n",
    "    X_train,X_test=X.iloc[train_idx],X.iloc[test_idx]\n",
    "    y_train,y_test=y.iloc[train_idx],y.iloc[test_idx]\n",
    "    model_RF.fit(X_train,y_train)\n",
    "    pred=model_RF.predict(X_test)\n",
    "    print(f\"Accuracy score: {accuracy_score(y_test,pred)}\")"
   ]
  },
  {
   "cell_type": "code",
   "execution_count": 175,
   "metadata": {},
   "outputs": [
    {
     "data": {
      "text/html": [
       "<style>#sk-container-id-1 {color: black;}#sk-container-id-1 pre{padding: 0;}#sk-container-id-1 div.sk-toggleable {background-color: white;}#sk-container-id-1 label.sk-toggleable__label {cursor: pointer;display: block;width: 100%;margin-bottom: 0;padding: 0.3em;box-sizing: border-box;text-align: center;}#sk-container-id-1 label.sk-toggleable__label-arrow:before {content: \"▸\";float: left;margin-right: 0.25em;color: #696969;}#sk-container-id-1 label.sk-toggleable__label-arrow:hover:before {color: black;}#sk-container-id-1 div.sk-estimator:hover label.sk-toggleable__label-arrow:before {color: black;}#sk-container-id-1 div.sk-toggleable__content {max-height: 0;max-width: 0;overflow: hidden;text-align: left;background-color: #f0f8ff;}#sk-container-id-1 div.sk-toggleable__content pre {margin: 0.2em;color: black;border-radius: 0.25em;background-color: #f0f8ff;}#sk-container-id-1 input.sk-toggleable__control:checked~div.sk-toggleable__content {max-height: 200px;max-width: 100%;overflow: auto;}#sk-container-id-1 input.sk-toggleable__control:checked~label.sk-toggleable__label-arrow:before {content: \"▾\";}#sk-container-id-1 div.sk-estimator input.sk-toggleable__control:checked~label.sk-toggleable__label {background-color: #d4ebff;}#sk-container-id-1 div.sk-label input.sk-toggleable__control:checked~label.sk-toggleable__label {background-color: #d4ebff;}#sk-container-id-1 input.sk-hidden--visually {border: 0;clip: rect(1px 1px 1px 1px);clip: rect(1px, 1px, 1px, 1px);height: 1px;margin: -1px;overflow: hidden;padding: 0;position: absolute;width: 1px;}#sk-container-id-1 div.sk-estimator {font-family: monospace;background-color: #f0f8ff;border: 1px dotted black;border-radius: 0.25em;box-sizing: border-box;margin-bottom: 0.5em;}#sk-container-id-1 div.sk-estimator:hover {background-color: #d4ebff;}#sk-container-id-1 div.sk-parallel-item::after {content: \"\";width: 100%;border-bottom: 1px solid gray;flex-grow: 1;}#sk-container-id-1 div.sk-label:hover label.sk-toggleable__label {background-color: #d4ebff;}#sk-container-id-1 div.sk-serial::before {content: \"\";position: absolute;border-left: 1px solid gray;box-sizing: border-box;top: 0;bottom: 0;left: 50%;z-index: 0;}#sk-container-id-1 div.sk-serial {display: flex;flex-direction: column;align-items: center;background-color: white;padding-right: 0.2em;padding-left: 0.2em;position: relative;}#sk-container-id-1 div.sk-item {position: relative;z-index: 1;}#sk-container-id-1 div.sk-parallel {display: flex;align-items: stretch;justify-content: center;background-color: white;position: relative;}#sk-container-id-1 div.sk-item::before, #sk-container-id-1 div.sk-parallel-item::before {content: \"\";position: absolute;border-left: 1px solid gray;box-sizing: border-box;top: 0;bottom: 0;left: 50%;z-index: -1;}#sk-container-id-1 div.sk-parallel-item {display: flex;flex-direction: column;z-index: 1;position: relative;background-color: white;}#sk-container-id-1 div.sk-parallel-item:first-child::after {align-self: flex-end;width: 50%;}#sk-container-id-1 div.sk-parallel-item:last-child::after {align-self: flex-start;width: 50%;}#sk-container-id-1 div.sk-parallel-item:only-child::after {width: 0;}#sk-container-id-1 div.sk-dashed-wrapped {border: 1px dashed gray;margin: 0 0.4em 0.5em 0.4em;box-sizing: border-box;padding-bottom: 0.4em;background-color: white;}#sk-container-id-1 div.sk-label label {font-family: monospace;font-weight: bold;display: inline-block;line-height: 1.2em;}#sk-container-id-1 div.sk-label-container {text-align: center;}#sk-container-id-1 div.sk-container {/* jupyter's `normalize.less` sets `[hidden] { display: none; }` but bootstrap.min.css set `[hidden] { display: none !important; }` so we also need the `!important` here to be able to override the default hidden behavior on the sphinx rendered scikit-learn.org. See: https://github.com/scikit-learn/scikit-learn/issues/21755 */display: inline-block !important;position: relative;}#sk-container-id-1 div.sk-text-repr-fallback {display: none;}</style><div id=\"sk-container-id-1\" class=\"sk-top-container\"><div class=\"sk-text-repr-fallback\"><pre>RandomForestClassifier(random_state=42)</pre><b>In a Jupyter environment, please rerun this cell to show the HTML representation or trust the notebook. <br />On GitHub, the HTML representation is unable to render, please try loading this page with nbviewer.org.</b></div><div class=\"sk-container\" hidden><div class=\"sk-item\"><div class=\"sk-estimator sk-toggleable\"><input class=\"sk-toggleable__control sk-hidden--visually\" id=\"sk-estimator-id-1\" type=\"checkbox\" checked><label for=\"sk-estimator-id-1\" class=\"sk-toggleable__label sk-toggleable__label-arrow\">RandomForestClassifier</label><div class=\"sk-toggleable__content\"><pre>RandomForestClassifier(random_state=42)</pre></div></div></div></div></div>"
      ],
      "text/plain": [
       "RandomForestClassifier(random_state=42)"
      ]
     },
     "execution_count": 175,
     "metadata": {},
     "output_type": "execute_result"
    }
   ],
   "source": [
    "model_RF.fit(X,y)"
   ]
  },
  {
   "cell_type": "markdown",
   "metadata": {},
   "source": [
    "## Neural Network"
   ]
  },
  {
   "cell_type": "code",
   "execution_count": 206,
   "metadata": {},
   "outputs": [
    {
     "name": "stdout",
     "output_type": "stream",
     "text": [
      "Model: \"sequential_8\"\n",
      "_________________________________________________________________\n",
      " Layer (type)                Output Shape              Param #   \n",
      "=================================================================\n",
      " dense_32 (Dense)            (None, 128)               2176      \n",
      "                                                                 \n",
      " dropout_17 (Dropout)        (None, 128)               0         \n",
      "                                                                 \n",
      " dense_33 (Dense)            (None, 64)                8256      \n",
      "                                                                 \n",
      " dropout_18 (Dropout)        (None, 64)                0         \n",
      "                                                                 \n",
      " dense_34 (Dense)            (None, 32)                2080      \n",
      "                                                                 \n",
      " dropout_19 (Dropout)        (None, 32)                0         \n",
      "                                                                 \n",
      " dense_35 (Dense)            (None, 16)                528       \n",
      "                                                                 \n",
      " dropout_20 (Dropout)        (None, 16)                0         \n",
      "                                                                 \n",
      " dense_36 (Dense)            (None, 7)                 119       \n",
      "                                                                 \n",
      "=================================================================\n",
      "Total params: 13159 (51.40 KB)\n",
      "Trainable params: 13159 (51.40 KB)\n",
      "Non-trainable params: 0 (0.00 Byte)\n",
      "_________________________________________________________________\n",
      "None\n"
     ]
    }
   ],
   "source": [
    "import tensorflow as tf\n",
    "from tensorflow import keras\n",
    "\n",
    "model=keras.Sequential([\n",
    "    keras.layers.Dense(128,input_shape=(X.shape[1],),activation='relu'),\n",
    "    keras.layers.Dropout(0.3),\n",
    "    keras.layers.Dense(64,activation='relu'),\n",
    "    keras.layers.Dropout(0.2),\n",
    "    keras.layers.Dense(32,activation='tanh'),\n",
    "    keras.layers.Dropout(0.2),\n",
    "    keras.layers.Dense(16,activation='tanh'),\n",
    "    keras.layers.Dropout(0.1),\n",
    "    keras.layers.Dense(7,activation='softmax')\n",
    "    ])\n",
    "\n",
    "print(model.summary())"
   ]
  },
  {
   "cell_type": "code",
   "execution_count": 177,
   "metadata": {},
   "outputs": [],
   "source": [
    "from keras.callbacks import EarlyStopping\n",
    "early_stopping=EarlyStopping(patience=20,monitor='val_loss',restore_best_weights=True)\n",
    "\n",
    "model.compile(optimizer='adam',loss='sparse_categorical_crossentropy',metrics=['accuracy']) # compile means to configure the model for training\n"
   ]
  },
  {
   "cell_type": "code",
   "execution_count": 178,
   "metadata": {},
   "outputs": [
    {
     "name": "stdout",
     "output_type": "stream",
     "text": [
      "Epoch 1/300\n"
     ]
    },
    {
     "name": "stdout",
     "output_type": "stream",
     "text": [
      "519/519 [==============================] - 4s 5ms/step - loss: 0.9482 - accuracy: 0.6277 - val_loss: 0.5604 - val_accuracy: 0.7852\n",
      "Epoch 2/300\n",
      "519/519 [==============================] - 2s 4ms/step - loss: 0.6007 - accuracy: 0.7673 - val_loss: 0.4428 - val_accuracy: 0.8367\n",
      "Epoch 3/300\n",
      "519/519 [==============================] - 3s 5ms/step - loss: 0.5371 - accuracy: 0.7931 - val_loss: 0.4114 - val_accuracy: 0.8471\n",
      "Epoch 4/300\n",
      "519/519 [==============================] - 3s 5ms/step - loss: 0.4950 - accuracy: 0.8146 - val_loss: 0.3996 - val_accuracy: 0.8589\n",
      "Epoch 5/300\n",
      "519/519 [==============================] - 3s 5ms/step - loss: 0.4694 - accuracy: 0.8323 - val_loss: 0.3844 - val_accuracy: 0.8646\n",
      "Epoch 6/300\n",
      "519/519 [==============================] - 3s 6ms/step - loss: 0.4570 - accuracy: 0.8348 - val_loss: 0.3761 - val_accuracy: 0.8702\n",
      "Epoch 7/300\n",
      "519/519 [==============================] - 3s 5ms/step - loss: 0.4448 - accuracy: 0.8395 - val_loss: 0.3854 - val_accuracy: 0.8716\n",
      "Epoch 8/300\n",
      "519/519 [==============================] - 3s 5ms/step - loss: 0.4382 - accuracy: 0.8457 - val_loss: 0.3769 - val_accuracy: 0.8733\n",
      "Epoch 9/300\n",
      "519/519 [==============================] - 3s 5ms/step - loss: 0.4290 - accuracy: 0.8481 - val_loss: 0.3686 - val_accuracy: 0.8779\n",
      "Epoch 10/300\n",
      "519/519 [==============================] - 3s 5ms/step - loss: 0.4225 - accuracy: 0.8520 - val_loss: 0.3631 - val_accuracy: 0.8760\n",
      "Epoch 11/300\n",
      "519/519 [==============================] - 3s 5ms/step - loss: 0.4176 - accuracy: 0.8542 - val_loss: 0.3640 - val_accuracy: 0.8764\n",
      "Epoch 12/300\n",
      "519/519 [==============================] - 2s 5ms/step - loss: 0.4145 - accuracy: 0.8546 - val_loss: 0.3732 - val_accuracy: 0.8704\n",
      "Epoch 13/300\n",
      "519/519 [==============================] - 2s 5ms/step - loss: 0.4096 - accuracy: 0.8585 - val_loss: 0.3637 - val_accuracy: 0.8728\n",
      "Epoch 14/300\n",
      "519/519 [==============================] - 2s 5ms/step - loss: 0.4076 - accuracy: 0.8585 - val_loss: 0.3617 - val_accuracy: 0.8750\n",
      "Epoch 15/300\n",
      "519/519 [==============================] - 3s 5ms/step - loss: 0.4059 - accuracy: 0.8614 - val_loss: 0.3583 - val_accuracy: 0.8755\n",
      "Epoch 16/300\n",
      "519/519 [==============================] - 3s 5ms/step - loss: 0.3968 - accuracy: 0.8635 - val_loss: 0.3553 - val_accuracy: 0.8808\n",
      "Epoch 17/300\n",
      "519/519 [==============================] - 3s 5ms/step - loss: 0.4024 - accuracy: 0.8599 - val_loss: 0.3611 - val_accuracy: 0.8762\n",
      "Epoch 18/300\n",
      "519/519 [==============================] - 3s 5ms/step - loss: 0.4005 - accuracy: 0.8614 - val_loss: 0.3556 - val_accuracy: 0.8793\n",
      "Epoch 19/300\n",
      "519/519 [==============================] - 3s 6ms/step - loss: 0.3938 - accuracy: 0.8624 - val_loss: 0.3594 - val_accuracy: 0.8779\n",
      "Epoch 20/300\n",
      "519/519 [==============================] - 3s 5ms/step - loss: 0.3947 - accuracy: 0.8626 - val_loss: 0.3633 - val_accuracy: 0.8772\n",
      "Epoch 21/300\n",
      "519/519 [==============================] - 3s 6ms/step - loss: 0.3938 - accuracy: 0.8648 - val_loss: 0.3555 - val_accuracy: 0.8789\n",
      "Epoch 22/300\n",
      "519/519 [==============================] - 3s 5ms/step - loss: 0.3921 - accuracy: 0.8674 - val_loss: 0.3569 - val_accuracy: 0.8817\n",
      "Epoch 23/300\n",
      "519/519 [==============================] - 3s 5ms/step - loss: 0.3805 - accuracy: 0.8668 - val_loss: 0.3636 - val_accuracy: 0.8760\n",
      "Epoch 24/300\n",
      "519/519 [==============================] - 3s 5ms/step - loss: 0.3847 - accuracy: 0.8693 - val_loss: 0.3538 - val_accuracy: 0.8798\n",
      "Epoch 25/300\n",
      "519/519 [==============================] - 2s 5ms/step - loss: 0.3842 - accuracy: 0.8698 - val_loss: 0.3570 - val_accuracy: 0.8803\n",
      "Epoch 26/300\n",
      "519/519 [==============================] - 2s 5ms/step - loss: 0.3834 - accuracy: 0.8713 - val_loss: 0.3569 - val_accuracy: 0.8779\n",
      "Epoch 27/300\n",
      "519/519 [==============================] - 3s 5ms/step - loss: 0.3754 - accuracy: 0.8703 - val_loss: 0.3588 - val_accuracy: 0.8796\n",
      "Epoch 28/300\n",
      "519/519 [==============================] - 2s 5ms/step - loss: 0.3772 - accuracy: 0.8691 - val_loss: 0.3533 - val_accuracy: 0.8849\n",
      "Epoch 29/300\n",
      "519/519 [==============================] - 2s 5ms/step - loss: 0.3745 - accuracy: 0.8702 - val_loss: 0.3608 - val_accuracy: 0.8764\n",
      "Epoch 30/300\n",
      "519/519 [==============================] - 3s 5ms/step - loss: 0.3751 - accuracy: 0.8693 - val_loss: 0.3508 - val_accuracy: 0.8798\n",
      "Epoch 31/300\n",
      "519/519 [==============================] - 3s 5ms/step - loss: 0.3726 - accuracy: 0.8721 - val_loss: 0.3513 - val_accuracy: 0.8810\n",
      "Epoch 32/300\n",
      "519/519 [==============================] - 3s 5ms/step - loss: 0.3743 - accuracy: 0.8714 - val_loss: 0.3582 - val_accuracy: 0.8803\n",
      "Epoch 33/300\n",
      "519/519 [==============================] - 2s 5ms/step - loss: 0.3666 - accuracy: 0.8770 - val_loss: 0.3508 - val_accuracy: 0.8832\n",
      "Epoch 34/300\n",
      "519/519 [==============================] - 2s 5ms/step - loss: 0.3724 - accuracy: 0.8740 - val_loss: 0.3535 - val_accuracy: 0.8822\n",
      "Epoch 35/300\n",
      "519/519 [==============================] - 2s 5ms/step - loss: 0.3692 - accuracy: 0.8752 - val_loss: 0.3462 - val_accuracy: 0.8839\n",
      "Epoch 36/300\n",
      "519/519 [==============================] - 2s 5ms/step - loss: 0.3677 - accuracy: 0.8738 - val_loss: 0.3533 - val_accuracy: 0.8839\n",
      "Epoch 37/300\n",
      "519/519 [==============================] - 2s 5ms/step - loss: 0.3677 - accuracy: 0.8736 - val_loss: 0.3502 - val_accuracy: 0.8805\n",
      "Epoch 38/300\n",
      "519/519 [==============================] - 2s 5ms/step - loss: 0.3627 - accuracy: 0.8762 - val_loss: 0.3469 - val_accuracy: 0.8803\n",
      "Epoch 39/300\n",
      "519/519 [==============================] - 3s 6ms/step - loss: 0.3690 - accuracy: 0.8729 - val_loss: 0.3448 - val_accuracy: 0.8849\n",
      "Epoch 40/300\n",
      "519/519 [==============================] - 2s 5ms/step - loss: 0.3655 - accuracy: 0.8769 - val_loss: 0.3421 - val_accuracy: 0.8880\n",
      "Epoch 41/300\n",
      "519/519 [==============================] - 2s 5ms/step - loss: 0.3626 - accuracy: 0.8817 - val_loss: 0.3499 - val_accuracy: 0.8870\n",
      "Epoch 42/300\n",
      "519/519 [==============================] - 3s 5ms/step - loss: 0.3642 - accuracy: 0.8786 - val_loss: 0.3472 - val_accuracy: 0.8839\n",
      "Epoch 43/300\n",
      "519/519 [==============================] - 3s 6ms/step - loss: 0.3603 - accuracy: 0.8765 - val_loss: 0.3539 - val_accuracy: 0.8817\n",
      "Epoch 44/300\n",
      "519/519 [==============================] - 2s 5ms/step - loss: 0.3617 - accuracy: 0.8772 - val_loss: 0.3579 - val_accuracy: 0.8827\n",
      "Epoch 45/300\n",
      "519/519 [==============================] - 2s 5ms/step - loss: 0.3582 - accuracy: 0.8781 - val_loss: 0.3482 - val_accuracy: 0.8856\n",
      "Epoch 46/300\n",
      "519/519 [==============================] - 3s 5ms/step - loss: 0.3581 - accuracy: 0.8787 - val_loss: 0.3520 - val_accuracy: 0.8827\n",
      "Epoch 47/300\n",
      "519/519 [==============================] - 2s 5ms/step - loss: 0.3551 - accuracy: 0.8817 - val_loss: 0.3526 - val_accuracy: 0.8822\n",
      "Epoch 48/300\n",
      "519/519 [==============================] - 2s 5ms/step - loss: 0.3558 - accuracy: 0.8811 - val_loss: 0.3515 - val_accuracy: 0.8822\n",
      "Epoch 49/300\n",
      "519/519 [==============================] - 3s 5ms/step - loss: 0.3595 - accuracy: 0.8775 - val_loss: 0.3495 - val_accuracy: 0.8837\n",
      "Epoch 50/300\n",
      "519/519 [==============================] - 3s 5ms/step - loss: 0.3574 - accuracy: 0.8766 - val_loss: 0.3514 - val_accuracy: 0.8813\n",
      "Epoch 51/300\n",
      "519/519 [==============================] - 3s 5ms/step - loss: 0.3529 - accuracy: 0.8803 - val_loss: 0.3502 - val_accuracy: 0.8839\n",
      "Epoch 52/300\n",
      "519/519 [==============================] - 2s 5ms/step - loss: 0.3534 - accuracy: 0.8796 - val_loss: 0.3561 - val_accuracy: 0.8873\n",
      "Epoch 53/300\n",
      "519/519 [==============================] - 3s 5ms/step - loss: 0.3482 - accuracy: 0.8817 - val_loss: 0.3497 - val_accuracy: 0.8832\n",
      "Epoch 54/300\n",
      "519/519 [==============================] - 3s 5ms/step - loss: 0.3479 - accuracy: 0.8820 - val_loss: 0.3517 - val_accuracy: 0.8858\n",
      "Epoch 55/300\n",
      "519/519 [==============================] - 2s 5ms/step - loss: 0.3479 - accuracy: 0.8828 - val_loss: 0.3550 - val_accuracy: 0.8837\n",
      "Epoch 56/300\n",
      "519/519 [==============================] - 2s 5ms/step - loss: 0.3491 - accuracy: 0.8825 - val_loss: 0.3520 - val_accuracy: 0.8825\n",
      "Epoch 57/300\n",
      "519/519 [==============================] - 3s 5ms/step - loss: 0.3558 - accuracy: 0.8792 - val_loss: 0.3511 - val_accuracy: 0.8875\n",
      "Epoch 58/300\n",
      "519/519 [==============================] - 2s 5ms/step - loss: 0.3496 - accuracy: 0.8809 - val_loss: 0.3468 - val_accuracy: 0.8846\n",
      "Epoch 59/300\n",
      "519/519 [==============================] - 2s 5ms/step - loss: 0.3476 - accuracy: 0.8823 - val_loss: 0.3495 - val_accuracy: 0.8842\n",
      "Epoch 60/300\n",
      "519/519 [==============================] - 2s 5ms/step - loss: 0.3476 - accuracy: 0.8831 - val_loss: 0.3606 - val_accuracy: 0.8796\n"
     ]
    },
    {
     "data": {
      "text/plain": [
       "<keras.src.callbacks.History at 0x15523e724a0>"
      ]
     },
     "execution_count": 178,
     "metadata": {},
     "output_type": "execute_result"
    }
   ],
   "source": [
    "model.fit(X,y,epochs=300,validation_split=0.2,callbacks=[early_stopping])"
   ]
  },
  {
   "cell_type": "code",
   "execution_count": 184,
   "metadata": {},
   "outputs": [
    {
     "data": {
      "image/png": "[encoded data removed]",
      "text/plain": [
       "<Figure size 640x480 with 1 Axes>"
      ]
     },
     "metadata": {},
     "output_type": "display_data"
    }
   ],
   "source": [
    "history=model.history.history\n",
    "import matplotlib.pyplot as plt\n",
    "plt.plot(history['loss'],label='train loss')\n",
    "plt.plot(history['val_loss'],label='val loss')\n",
    "plt.legend()\n",
    "plt.show()"
   ]
  },
  {
   "cell_type": "code",
   "execution_count": 186,
   "metadata": {},
   "outputs": [
    {
     "data": {
      "image/png": "[encoded data removed]",
      "text/plain": [
       "<Figure size 640x480 with 1 Axes>"
      ]
     },
     "metadata": {},
     "output_type": "display_data"
    }
   ],
   "source": [
    "plt.plot(history['accuracy'],label='train accuracy')\n",
    "plt.plot(history['val_accuracy'],label='val accuracy')\n",
    "plt.legend()\n",
    "plt.show()"
   ]
  },
  {
   "cell_type": "code",
   "execution_count": 212,
   "metadata": {},
   "outputs": [
    {
     "name": "stdout",
     "output_type": "stream",
     "text": [
      "433/433 [==============================] - 2s 4ms/step\n"
     ]
    }
   ],
   "source": [
    "y_pred=model.predict(test)"
   ]
  },
  {
   "cell_type": "code",
   "execution_count": 217,
   "metadata": {},
   "outputs": [],
   "source": [
    "submission=pd.read_csv('sample_submission.csv')\n",
    "submission['NObeyesdad']=le.inverse_transform(y_pred.argmax(axis=1))\n",
    "submission.to_csv('submission.csv',index=False)\n"
   ]
  },
  {
   "cell_type": "code",
   "execution_count": 218,
   "metadata": {},
   "outputs": [
    {
     "data": {
      "text/html": [
       "<div>\n",
       "<style scoped>\n",
       "    .dataframe tbody tr th:only-of-type {\n",
       "        vertical-align: middle;\n",
       "    }\n",
       "\n",
       "    .dataframe tbody tr th {\n",
       "        vertical-align: top;\n",
       "    }\n",
       "\n",
       "    .dataframe thead th {\n",
       "        text-align: right;\n",
       "    }\n",
       "</style>\n",
       "<table border=\"1\" class=\"dataframe\">\n",
       "  <thead>\n",
       "    <tr style=\"text-align: right;\">\n",
       "      <th></th>\n",
       "      <th>id</th>\n",
       "      <th>NObeyesdad</th>\n",
       "    </tr>\n",
       "  </thead>\n",
       "  <tbody>\n",
       "    <tr>\n",
       "      <th>0</th>\n",
       "      <td>20758</td>\n",
       "      <td>Normal_Weight</td>\n",
       "    </tr>\n",
       "    <tr>\n",
       "      <th>1</th>\n",
       "      <td>20759</td>\n",
       "      <td>Overweight_Level_I</td>\n",
       "    </tr>\n",
       "    <tr>\n",
       "      <th>2</th>\n",
       "      <td>20760</td>\n",
       "      <td>Obesity_Type_III</td>\n",
       "    </tr>\n",
       "    <tr>\n",
       "      <th>3</th>\n",
       "      <td>20761</td>\n",
       "      <td>Overweight_Level_II</td>\n",
       "    </tr>\n",
       "    <tr>\n",
       "      <th>4</th>\n",
       "      <td>20762</td>\n",
       "      <td>Obesity_Type_III</td>\n",
       "    </tr>\n",
       "  </tbody>\n",
       "</table>\n",
       "</div>"
      ],
      "text/plain": [
       "      id           NObeyesdad\n",
       "0  20758        Normal_Weight\n",
       "1  20759   Overweight_Level_I\n",
       "2  20760     Obesity_Type_III\n",
       "3  20761  Overweight_Level_II\n",
       "4  20762     Obesity_Type_III"
      ]
     },
     "execution_count": 218,
     "metadata": {},
     "output_type": "execute_result"
    }
   ],
   "source": [
    "submission.head()"
   ]
  }
 ],
 "metadata": {
  "kernelspec": {
   "display_name": "mleng",
   "language": "python",
   "name": "python3"
  },
  "language_info": {
   "codemirror_mode": {
    "name": "ipython",
    "version": 3
   },
   "file_extension": ".py",
   "mimetype": "text/x-python",
   "name": "python",
   "nbconvert_exporter": "python",
   "pygments_lexer": "ipython3",
   "version": "3.10.13"
  }
 },
 "nbformat": 4,
 "nbformat_minor": 2
}
