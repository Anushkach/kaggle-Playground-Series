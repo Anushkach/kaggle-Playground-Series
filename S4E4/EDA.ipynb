{
 "cells": [
  {
   "cell_type": "code",
   "execution_count": 1,
   "metadata": {},
   "outputs": [
    {
     "name": "stdout",
     "output_type": "stream",
     "text": [
      "Hello world\n"
     ]
    }
   ],
   "source": [
    "print(\"Hello world\")"
   ]
  },
  {
   "cell_type": "code",
   "execution_count": 2,
   "metadata": {},
   "outputs": [],
   "source": [
    "import pandas as pd\n",
    "import numpy as np\n",
    "import matplotlib.pyplot as plt\n",
    "import seaborn as sns\n",
    "from colorama import Fore, Style\n",
    "import xgboost\n",
    "import catboost \n",
    "import lightgbm\n",
    "\n",
    "from sklearn.base import clone\n",
    "from sklearn.model_selection import KFold, StratifiedKFold\n",
    "from sklearn.pipeline import make_pipeline, Pipeline\n",
    "from sklearn.compose import TransformedTargetRegressor, ColumnTransformer\n",
    "from sklearn.preprocessing import StandardScaler, OneHotEncoder, PolynomialFeatures, SplineTransformer\n",
    "from sklearn.kernel_approximation import Nystroem\n",
    "from sklearn.linear_model import LinearRegression, Ridge\n",
    "from sklearn.isotonic import IsotonicRegression\n",
    "from sklearn.ensemble import RandomForestRegressor, ExtraTreesRegressor, HistGradientBoostingRegressor\n",
    "from sklearn.neighbors import KNeighborsRegressor\n",
    "from sklearn.metrics import mean_squared_log_error\n",
    "\n"
   ]
  },
  {
   "cell_type": "code",
   "execution_count": 3,
   "metadata": {},
   "outputs": [],
   "source": [
    "# configuration\n",
    "COMPUTE_TEST_PRED=True\n",
    "USE_ORIGINAL_DATA=True\n",
    "\n",
    "# containers for results\n",
    "oof,test_pred={},{}\n"
   ]
  },
  {
   "cell_type": "markdown",
   "metadata": {},
   "source": [
    "## Reading Data"
   ]
  },
  {
   "cell_type": "code",
   "execution_count": 6,
   "metadata": {},
   "outputs": [],
   "source": [
    "train=pd.read_csv(\"train.csv\",index_col=\"id\")\n",
    "test=pd.read_csv(\"test.csv\",index_col='id')\n",
    "\n",
    "train['Sex']=train['Sex'].astype('category')\n",
    "test['Sex']=test['Sex'].astype(train['Sex'].dtype)"
   ]
  },
  {
   "cell_type": "code",
   "execution_count": 7,
   "metadata": {},
   "outputs": [
    {
     "name": "stdout",
     "output_type": "stream",
     "text": [
      "There are no missing values in train, train-size:(90615, 9)\n",
      "There are no missing values in test, test-size:(60411, 8)\n"
     ]
    }
   ],
   "source": [
    "if not train.isna().any().any():\n",
    "    print(f\"There are no missing values in train, train-size:{train.shape}\")\n",
    "\n",
    "if not test.isna().any().any():\n",
    "    print(f\"There are no missing values in test, test-size:{test.shape}\")"
   ]
  },
  {
   "cell_type": "code",
   "execution_count": 8,
   "metadata": {},
   "outputs": [],
   "source": [
    "numeric_features=['Length', 'Diameter', 'Height', 'Whole weight', \n",
    "                  'Whole weight.1', 'Whole weight.2', 'Shell weight']\n",
    "numeric_vars=numeric_features+['Rings']"
   ]
  },
  {
   "cell_type": "code",
   "execution_count": 9,
   "metadata": {},
   "outputs": [
    {
     "data": {
      "text/html": [
       "<div>\n",
       "<style scoped>\n",
       "    .dataframe tbody tr th:only-of-type {\n",
       "        vertical-align: middle;\n",
       "    }\n",
       "\n",
       "    .dataframe tbody tr th {\n",
       "        vertical-align: top;\n",
       "    }\n",
       "\n",
       "    .dataframe thead th {\n",
       "        text-align: right;\n",
       "    }\n",
       "</style>\n",
       "<table border=\"1\" class=\"dataframe\">\n",
       "  <thead>\n",
       "    <tr style=\"text-align: right;\">\n",
       "      <th>id</th>\n",
       "      <th>0</th>\n",
       "      <th>1</th>\n",
       "      <th>2</th>\n",
       "      <th>3</th>\n",
       "      <th>4</th>\n",
       "      <th>5</th>\n",
       "      <th>6</th>\n",
       "      <th>7</th>\n",
       "      <th>8</th>\n",
       "      <th>9</th>\n",
       "      <th>10</th>\n",
       "      <th>11</th>\n",
       "      <th>12</th>\n",
       "      <th>13</th>\n",
       "      <th>14</th>\n",
       "    </tr>\n",
       "  </thead>\n",
       "  <tbody>\n",
       "    <tr>\n",
       "      <th>Sex</th>\n",
       "      <td>F</td>\n",
       "      <td>F</td>\n",
       "      <td>I</td>\n",
       "      <td>M</td>\n",
       "      <td>I</td>\n",
       "      <td>F</td>\n",
       "      <td>M</td>\n",
       "      <td>F</td>\n",
       "      <td>I</td>\n",
       "      <td>I</td>\n",
       "      <td>M</td>\n",
       "      <td>M</td>\n",
       "      <td>F</td>\n",
       "      <td>I</td>\n",
       "      <td>I</td>\n",
       "    </tr>\n",
       "    <tr>\n",
       "      <th>Length</th>\n",
       "      <td>0.55</td>\n",
       "      <td>0.63</td>\n",
       "      <td>0.16</td>\n",
       "      <td>0.595</td>\n",
       "      <td>0.555</td>\n",
       "      <td>0.61</td>\n",
       "      <td>0.415</td>\n",
       "      <td>0.61</td>\n",
       "      <td>0.205</td>\n",
       "      <td>0.565</td>\n",
       "      <td>0.485</td>\n",
       "      <td>0.605</td>\n",
       "      <td>0.595</td>\n",
       "      <td>0.44</td>\n",
       "      <td>0.555</td>\n",
       "    </tr>\n",
       "    <tr>\n",
       "      <th>Diameter</th>\n",
       "      <td>0.43</td>\n",
       "      <td>0.49</td>\n",
       "      <td>0.11</td>\n",
       "      <td>0.475</td>\n",
       "      <td>0.425</td>\n",
       "      <td>0.48</td>\n",
       "      <td>0.325</td>\n",
       "      <td>0.49</td>\n",
       "      <td>0.15</td>\n",
       "      <td>0.425</td>\n",
       "      <td>0.39</td>\n",
       "      <td>0.5</td>\n",
       "      <td>0.475</td>\n",
       "      <td>0.345</td>\n",
       "      <td>0.435</td>\n",
       "    </tr>\n",
       "    <tr>\n",
       "      <th>Height</th>\n",
       "      <td>0.15</td>\n",
       "      <td>0.145</td>\n",
       "      <td>0.025</td>\n",
       "      <td>0.15</td>\n",
       "      <td>0.13</td>\n",
       "      <td>0.17</td>\n",
       "      <td>0.11</td>\n",
       "      <td>0.15</td>\n",
       "      <td>0.04</td>\n",
       "      <td>0.125</td>\n",
       "      <td>0.135</td>\n",
       "      <td>0.185</td>\n",
       "      <td>0.145</td>\n",
       "      <td>0.11</td>\n",
       "      <td>0.145</td>\n",
       "    </tr>\n",
       "    <tr>\n",
       "      <th>Whole weight</th>\n",
       "      <td>0.7715</td>\n",
       "      <td>1.13</td>\n",
       "      <td>0.021</td>\n",
       "      <td>0.9145</td>\n",
       "      <td>0.782</td>\n",
       "      <td>1.201</td>\n",
       "      <td>0.3315</td>\n",
       "      <td>1.1165</td>\n",
       "      <td>0.046</td>\n",
       "      <td>0.651</td>\n",
       "      <td>0.6335</td>\n",
       "      <td>1.218</td>\n",
       "      <td>0.9085</td>\n",
       "      <td>0.4495</td>\n",
       "      <td>0.7905</td>\n",
       "    </tr>\n",
       "    <tr>\n",
       "      <th>Whole weight.1</th>\n",
       "      <td>0.3285</td>\n",
       "      <td>0.458</td>\n",
       "      <td>0.0055</td>\n",
       "      <td>0.3755</td>\n",
       "      <td>0.3695</td>\n",
       "      <td>0.5335</td>\n",
       "      <td>0.1655</td>\n",
       "      <td>0.4955</td>\n",
       "      <td>0.0145</td>\n",
       "      <td>0.3795</td>\n",
       "      <td>0.3035</td>\n",
       "      <td>0.5885</td>\n",
       "      <td>0.3605</td>\n",
       "      <td>0.175</td>\n",
       "      <td>0.3495</td>\n",
       "    </tr>\n",
       "    <tr>\n",
       "      <th>Whole weight.2</th>\n",
       "      <td>0.1465</td>\n",
       "      <td>0.2765</td>\n",
       "      <td>0.003</td>\n",
       "      <td>0.2055</td>\n",
       "      <td>0.16</td>\n",
       "      <td>0.3135</td>\n",
       "      <td>0.0715</td>\n",
       "      <td>0.2945</td>\n",
       "      <td>0.0105</td>\n",
       "      <td>0.142</td>\n",
       "      <td>0.165</td>\n",
       "      <td>0.2705</td>\n",
       "      <td>0.1765</td>\n",
       "      <td>0.0945</td>\n",
       "      <td>0.1815</td>\n",
       "    </tr>\n",
       "    <tr>\n",
       "      <th>Shell weight</th>\n",
       "      <td>0.24</td>\n",
       "      <td>0.32</td>\n",
       "      <td>0.005</td>\n",
       "      <td>0.25</td>\n",
       "      <td>0.1975</td>\n",
       "      <td>0.3085</td>\n",
       "      <td>0.13</td>\n",
       "      <td>0.295</td>\n",
       "      <td>0.01</td>\n",
       "      <td>0.18</td>\n",
       "      <td>0.2</td>\n",
       "      <td>0.31</td>\n",
       "      <td>0.265</td>\n",
       "      <td>0.1365</td>\n",
       "      <td>0.2425</td>\n",
       "    </tr>\n",
       "    <tr>\n",
       "      <th>Rings</th>\n",
       "      <td>11</td>\n",
       "      <td>11</td>\n",
       "      <td>6</td>\n",
       "      <td>10</td>\n",
       "      <td>9</td>\n",
       "      <td>10</td>\n",
       "      <td>9</td>\n",
       "      <td>9</td>\n",
       "      <td>4</td>\n",
       "      <td>8</td>\n",
       "      <td>8</td>\n",
       "      <td>11</td>\n",
       "      <td>15</td>\n",
       "      <td>7</td>\n",
       "      <td>10</td>\n",
       "    </tr>\n",
       "  </tbody>\n",
       "</table>\n",
       "</div>"
      ],
      "text/plain": [
       "id                  0       1       2       3       4       5       6   \\\n",
       "Sex                  F       F       I       M       I       F       M   \n",
       "Length            0.55    0.63    0.16   0.595   0.555    0.61   0.415   \n",
       "Diameter          0.43    0.49    0.11   0.475   0.425    0.48   0.325   \n",
       "Height            0.15   0.145   0.025    0.15    0.13    0.17    0.11   \n",
       "Whole weight    0.7715    1.13   0.021  0.9145   0.782   1.201  0.3315   \n",
       "Whole weight.1  0.3285   0.458  0.0055  0.3755  0.3695  0.5335  0.1655   \n",
       "Whole weight.2  0.1465  0.2765   0.003  0.2055    0.16  0.3135  0.0715   \n",
       "Shell weight      0.24    0.32   0.005    0.25  0.1975  0.3085    0.13   \n",
       "Rings               11      11       6      10       9      10       9   \n",
       "\n",
       "id                  7       8       9       10      11      12      13      14  \n",
       "Sex                  F       I       I       M       M       F       I       I  \n",
       "Length            0.61   0.205   0.565   0.485   0.605   0.595    0.44   0.555  \n",
       "Diameter          0.49    0.15   0.425    0.39     0.5   0.475   0.345   0.435  \n",
       "Height            0.15    0.04   0.125   0.135   0.185   0.145    0.11   0.145  \n",
       "Whole weight    1.1165   0.046   0.651  0.6335   1.218  0.9085  0.4495  0.7905  \n",
       "Whole weight.1  0.4955  0.0145  0.3795  0.3035  0.5885  0.3605   0.175  0.3495  \n",
       "Whole weight.2  0.2945  0.0105   0.142   0.165  0.2705  0.1765  0.0945  0.1815  \n",
       "Shell weight     0.295    0.01    0.18     0.2    0.31   0.265  0.1365  0.2425  \n",
       "Rings                9       4       8       8      11      15       7      10  "
      ]
     },
     "execution_count": 9,
     "metadata": {},
     "output_type": "execute_result"
    }
   ],
   "source": [
    "train.head(15).T"
   ]
  },
  {
   "cell_type": "markdown",
   "metadata": {},
   "source": [
    "### Insights  \n",
    "* The Target variable `Rings` is Integer. we can use it with `StratifiedKFold`. The stratification gives better CV-LB score than a simple Kfold.  \n",
    "* With 90000> samples, training dataset is too big for kernelbased regressors (eg:`SVR`,`KernelRidge`,`GaussianProcessRegressor`).   \n",
    "* `Sex` is a categorical variable. For some models we will need it to be one hot encoded, for other models, it is suffices to mark as categorical. \n"
   ]
  },
  {
   "cell_type": "code",
   "execution_count": 8,
   "metadata": {},
   "outputs": [
    {
     "name": "stdout",
     "output_type": "stream",
     "text": [
      "Requirement already satisfied: ucimlrepo in /home/anushka/anaconda3/envs/torch/lib/python3.10/site-packages (0.0.6)\n"
     ]
    }
   ],
   "source": [
    "!pip install ucimlrepo"
   ]
  },
  {
   "cell_type": "code",
   "execution_count": 10,
   "metadata": {},
   "outputs": [
    {
     "name": "stdout",
     "output_type": "stream",
     "text": [
      "Original Dataset Shape: (4177, 9)\n"
     ]
    }
   ],
   "source": [
    "if USE_ORIGINAL_DATA:\n",
    "    from ucimlrepo import fetch_ucirepo\n",
    "\n",
    "    # fetch dataset\n",
    "    abalone=fetch_ucirepo(id=1)\n",
    "\n",
    "    # make the dataframe\n",
    "    original_dataset=pd.concat([abalone['data']['features'],\n",
    "                                abalone['data']['targets']],axis=1).rename(\n",
    "                                    {\n",
    "                                    \"Whole_weight\":\"Whole weight\",\n",
    "                                    \"Shucked_weight\":\"Whole weight.1\",\n",
    "                                    \"Viscera_weight\":\"Whole weight.2\",\n",
    "                                    \"Shell_weight\":\"Shell weight\"\n",
    "                                },axis=1)\n",
    "\n",
    "    original_dataset[\"Sex\"]=original_dataset[\"Sex\"].astype(train[\"Sex\"].dtype)\n",
    "    print(f\"Original Dataset Shape: {original_dataset.shape}\")"
   ]
  },
  {
   "cell_type": "markdown",
   "metadata": {},
   "source": [
    "## Correlation"
   ]
  },
  {
   "cell_type": "code",
   "execution_count": 18,
   "metadata": {},
   "outputs": [
    {
     "data": {
      "image/png": "[encoded data removed]",
      "text/plain": [
       "<Figure size 640x480 with 2 Axes>"
      ]
     },
     "metadata": {},
     "output_type": "display_data"
    }
   ],
   "source": [
    "cc=np.corrcoef(train[numeric_vars],rowvar=False) \n",
    "sns.heatmap(cc,\n",
    "            center=0,\n",
    "            cmap=sns.color_palette(\"icefire\", as_cmap=True),\n",
    "            annot=True,\n",
    "            xticklabels=numeric_vars,\n",
    "            yticklabels=numeric_vars,\n",
    "            mask=np.triu(cc),\n",
    "            vmax=1,\n",
    "            vmin=0.5)\n",
    "plt.show()"
   ]
  },
  {
   "cell_type": "markdown",
   "metadata": {},
   "source": [
    "### Insights  \n",
    "* All features are important"
   ]
  },
  {
   "cell_type": "markdown",
   "metadata": {},
   "source": [
    "## Target Distribution"
   ]
  },
  {
   "cell_type": "code",
   "execution_count": 19,
   "metadata": {},
   "outputs": [
    {
     "data": {
      "image/png": "[encoded data removed]",
      "text/plain": [
       "<Figure size 800x400 with 1 Axes>"
      ]
     },
     "metadata": {},
     "output_type": "display_data"
    }
   ],
   "source": [
    "vc=train['Rings'].value_counts()\n",
    "plt.figure(figsize=(8,4))\n",
    "sns.barplot(data=pd.DataFrame(vc),x=vc.index,y=vc.values,color='lightblue',edgecolor='black')\n",
    "plt.show()\n"
   ]
  },
  {
   "cell_type": "code",
   "execution_count": null,
   "metadata": {},
   "outputs": [],
   "source": []
  },
  {
   "cell_type": "markdown",
   "metadata": {},
   "source": [
    "### Insights  \n",
    "* Since all training targets are between 1 and 29, we may clip all predictions to the interval [1,29]"
   ]
  },
  {
   "cell_type": "markdown",
   "metadata": {},
   "source": [
    "## Feature Engineering"
   ]
  },
  {
   "attachments": {
    "image.png": {
     "image/png": "[encoded data removed]"
    }
   },
   "cell_type": "markdown",
   "metadata": {},
   "source": [
    "![image.png](attachment:image.png)"
   ]
  },
  {
   "cell_type": "markdown",
   "metadata": {},
   "source": [
    "All our models will predict logarithm of the target. In this case some models will perform better if we feed the models with logarithmic features"
   ]
  },
  {
   "cell_type": "code",
   "execution_count": 21,
   "metadata": {},
   "outputs": [],
   "source": [
    "log_features=[]\n",
    "for col in numeric_features:\n",
    "    train[f\"log_{col}\"]=np.log1p(train[col])\n",
    "    test[f\"log_{col}\"]=np.log1p(test[col])\n",
    "\n",
    "    if USE_ORIGINAL_DATA:\n",
    "        original_dataset[f\"log_{col}\"]=np.log1p(original_dataset[col])\n",
    "    log_features.append(f\"log_{col}\")"
   ]
  },
  {
   "cell_type": "markdown",
   "metadata": {},
   "source": [
    "## Cross validation"
   ]
  },
  {
   "cell_type": "code",
   "execution_count": 28,
   "metadata": {},
   "outputs": [],
   "source": [
    "kf=StratifiedKFold(n_splits=5,shuffle=True,random_state=42)\n",
    "\n",
    "def cross_validate(model,label,features=test.columns,n_repeats=1):\n",
    "    \"\"\"\n",
    "    Computes OOF prediction for a given model\n",
    "\n",
    "    OOF and test predictions are stored in the global variables oof and test_pred\n",
    "\n",
    "    if n_repeats>1, the model is trained with different seeds\n",
    "\n",
    "    All predictions are clipped to [1,29]\n",
    "    \"\"\"\n",
    "\n",
    "    scores=[]\n",
    "    oof_preds=np.full_like(train[\"Rings\"],np.nan,dtype=float)\n",
    "    for fold,(idx_train,idx_val) in enumerate(kf.split(train,train[\"Rings\"])):\n",
    "        X_train=train.iloc[idx_train][features]\n",
    "        X_val=train.iloc[idx_val][features]\n",
    "        y_train=train.iloc[idx_train][\"Rings\"]\n",
    "        y_val=train.iloc[idx_val][\"Rings\"]\n",
    "\n",
    "        if USE_ORIGINAL_DATA:\n",
    "            X_train=pd.concat([X_train,original_dataset[features]],axis=0)\n",
    "            y_train=pd.concat([y_train,original_dataset[\"Rings\"]],axis=0)\n",
    "\n",
    "            y_pred=np.zeros_like(y_val,dtype=float)\n",
    "\n",
    "            for i in range(n_repeats):\n",
    "                m=clone(model)\n",
    "                if n_repeats>1:\n",
    "                    mm=m\n",
    "                    if isinstance(mm,Pipeline):\n",
    "                        mm=mm[-1]\n",
    "                    if isinstance(mm,TransformedTargetRegressor):\n",
    "                        mm=mm.regressor\n",
    "\n",
    "                    mm.set_params(random_state=i)\n",
    "                m.fit(X_train,y_train)\n",
    "                y_pred+=m.predict(X_val)\n",
    "            y_pred/=n_repeats\n",
    "            y_pred=y_pred.clip(1,29)\n",
    "\n",
    "        score=mean_squared_log_error(y_val,y_pred,squared=False)\n",
    "        print(f\"# Fold {fold}: RMSE {score:.5f}\")\n",
    "        scores.append(score)\n",
    "        oof_preds[idx_val]=y_pred\n",
    "\n",
    "    print(f\"{Fore.GREEN} Overall: {np.array(scores).mean():.5f} {label}{Style.RESET_ALL}\")\n",
    "    oof[label]=oof_preds\n",
    "\n",
    "    if COMPUTE_TEST_PRED:\n",
    "        y_pred=np.zeros(len(test),dtype=float)\n",
    "        X_train=train[features]\n",
    "        y_train=train[\"Rings\"]\n",
    "        for i in range(n_repeats):\n",
    "            m=clone(model)\n",
    "            if n_repeats>1:\n",
    "                mm=m\n",
    "                if isinstance(mm,Pipeline):\n",
    "                    mm=mm[-1]\n",
    "                if isinstance(mm,TransformedTargetRegressor):\n",
    "                    mm=mm.regressor\n",
    "                mm.set_params(random_state=i)\n",
    "            m.fit(X_train,y_train)\n",
    "            y_pred+=m.predict(test[features])\n",
    "        y_pred/=n_repeats\n",
    "        y_pred=y_pred.clip(1,29)\n",
    "        test_pred[label]=y_pred\n"
   ]
  },
  {
   "cell_type": "markdown",
   "metadata": {},
   "source": [
    "## Models"
   ]
  },
  {
   "cell_type": "markdown",
   "metadata": {},
   "source": [
    "As the competition requires us to optimize the `mean squared log error`, we use `TransformedTargetRegressor`. If a raw model use `mean squared error`, its `TransformedTargetRegressor` will optimized the `mean squared log error`.  \n",
    "\n",
    "We start with linear models. The linear models improve if we add non linear features with either `PolynomialFeatures` or `Nystroem`."
   ]
  },
  {
   "cell_type": "markdown",
   "metadata": {},
   "source": [
    "**Special args**:   \n",
    "* remainder='passthrough': columns not specified in the transformer will be passthrough\n",
    "* drop first=True: drop first category of the avoid the dummy variable trap\n",
    "* PolynomialFeatures: Generate polynomial and interation features\n",
    "* TransformedTargetRegressor: regression model that apply transformation to the target variable before fit the model and apply inverse transformation to predictions"
   ]
  },
  {
   "cell_type": "code",
   "execution_count": 29,
   "metadata": {},
   "outputs": [
    {
     "name": "stdout",
     "output_type": "stream",
     "text": [
      "# Fold 0: RMSE 0.15298\n",
      "# Fold 1: RMSE 0.15294\n",
      "# Fold 2: RMSE 0.15308\n",
      "# Fold 3: RMSE 0.15372\n",
      "# Fold 4: RMSE 0.15158\n",
      "\u001b[32m Overall: 0.15286 Poly-Ridge\u001b[0m\n"
     ]
    }
   ],
   "source": [
    "# Polynomial features +ridge\n",
    "model=make_pipeline(\n",
    "\n",
    "    ColumnTransformer([('ohe',OneHotEncoder(drop='first'),['Sex'])],remainder='passthrough'), # transform \"Sex\" column to 3-1=2 Columns\n",
    "    StandardScaler(),\n",
    "    PolynomialFeatures(degree=3),\n",
    "    TransformedTargetRegressor(Ridge(100),\n",
    "                                func=np.log1p,\n",
    "                                inverse_func=np.expm1))\n",
    "\n",
    "cross_validate(model,\"Poly-Ridge\",numeric_features+log_features+[\"Sex\"],n_repeats=1)"
   ]
  },
  {
   "cell_type": "markdown",
   "metadata": {},
   "source": [
    "\n",
    " Overall: 0.15286 Poly-Ridge"
   ]
  },
  {
   "cell_type": "code",
   "execution_count": 30,
   "metadata": {},
   "outputs": [
    {
     "data": {
      "text/html": [
       "<style>#sk-container-id-1 {color: black;background-color: white;}#sk-container-id-1 pre{padding: 0;}#sk-container-id-1 div.sk-toggleable {background-color: white;}#sk-container-id-1 label.sk-toggleable__label {cursor: pointer;display: block;width: 100%;margin-bottom: 0;padding: 0.3em;box-sizing: border-box;text-align: center;}#sk-container-id-1 label.sk-toggleable__label-arrow:before {content: \"▸\";float: left;margin-right: 0.25em;color: #696969;}#sk-container-id-1 label.sk-toggleable__label-arrow:hover:before {color: black;}#sk-container-id-1 div.sk-estimator:hover label.sk-toggleable__label-arrow:before {color: black;}#sk-container-id-1 div.sk-toggleable__content {max-height: 0;max-width: 0;overflow: hidden;text-align: left;background-color: #f0f8ff;}#sk-container-id-1 div.sk-toggleable__content pre {margin: 0.2em;color: black;border-radius: 0.25em;background-color: #f0f8ff;}#sk-container-id-1 input.sk-toggleable__control:checked~div.sk-toggleable__content {max-height: 200px;max-width: 100%;overflow: auto;}#sk-container-id-1 input.sk-toggleable__control:checked~label.sk-toggleable__label-arrow:before {content: \"▾\";}#sk-container-id-1 div.sk-estimator input.sk-toggleable__control:checked~label.sk-toggleable__label {background-color: #d4ebff;}#sk-container-id-1 div.sk-label input.sk-toggleable__control:checked~label.sk-toggleable__label {background-color: #d4ebff;}#sk-container-id-1 input.sk-hidden--visually {border: 0;clip: rect(1px 1px 1px 1px);clip: rect(1px, 1px, 1px, 1px);height: 1px;margin: -1px;overflow: hidden;padding: 0;position: absolute;width: 1px;}#sk-container-id-1 div.sk-estimator {font-family: monospace;background-color: #f0f8ff;border: 1px dotted black;border-radius: 0.25em;box-sizing: border-box;margin-bottom: 0.5em;}#sk-container-id-1 div.sk-estimator:hover {background-color: #d4ebff;}#sk-container-id-1 div.sk-parallel-item::after {content: \"\";width: 100%;border-bottom: 1px solid gray;flex-grow: 1;}#sk-container-id-1 div.sk-label:hover label.sk-toggleable__label {background-color: #d4ebff;}#sk-container-id-1 div.sk-serial::before {content: \"\";position: absolute;border-left: 1px solid gray;box-sizing: border-box;top: 0;bottom: 0;left: 50%;z-index: 0;}#sk-container-id-1 div.sk-serial {display: flex;flex-direction: column;align-items: center;background-color: white;padding-right: 0.2em;padding-left: 0.2em;position: relative;}#sk-container-id-1 div.sk-item {position: relative;z-index: 1;}#sk-container-id-1 div.sk-parallel {display: flex;align-items: stretch;justify-content: center;background-color: white;position: relative;}#sk-container-id-1 div.sk-item::before, #sk-container-id-1 div.sk-parallel-item::before {content: \"\";position: absolute;border-left: 1px solid gray;box-sizing: border-box;top: 0;bottom: 0;left: 50%;z-index: -1;}#sk-container-id-1 div.sk-parallel-item {display: flex;flex-direction: column;z-index: 1;position: relative;background-color: white;}#sk-container-id-1 div.sk-parallel-item:first-child::after {align-self: flex-end;width: 50%;}#sk-container-id-1 div.sk-parallel-item:last-child::after {align-self: flex-start;width: 50%;}#sk-container-id-1 div.sk-parallel-item:only-child::after {width: 0;}#sk-container-id-1 div.sk-dashed-wrapped {border: 1px dashed gray;margin: 0 0.4em 0.5em 0.4em;box-sizing: border-box;padding-bottom: 0.4em;background-color: white;}#sk-container-id-1 div.sk-label label {font-family: monospace;font-weight: bold;display: inline-block;line-height: 1.2em;}#sk-container-id-1 div.sk-label-container {text-align: center;}#sk-container-id-1 div.sk-container {/* jupyter's `normalize.less` sets `[hidden] { display: none; }` but bootstrap.min.css set `[hidden] { display: none !important; }` so we also need the `!important` here to be able to override the default hidden behavior on the sphinx rendered scikit-learn.org. See: https://github.com/scikit-learn/scikit-learn/issues/21755 */display: inline-block !important;position: relative;}#sk-container-id-1 div.sk-text-repr-fallback {display: none;}</style><div id=\"sk-container-id-1\" class=\"sk-top-container\"><div class=\"sk-text-repr-fallback\"><pre>Pipeline(steps=[(&#x27;columntransformer&#x27;,\n",
       "                 ColumnTransformer(remainder=&#x27;passthrough&#x27;,\n",
       "                                   transformers=[(&#x27;ohe&#x27;,\n",
       "                                                  OneHotEncoder(drop=&#x27;first&#x27;),\n",
       "                                                  [&#x27;Sex&#x27;])])),\n",
       "                (&#x27;standardscaler&#x27;, StandardScaler()),\n",
       "                (&#x27;polynomialfeatures&#x27;, PolynomialFeatures(degree=3)),\n",
       "                (&#x27;transformedtargetregressor&#x27;,\n",
       "                 TransformedTargetRegressor(func=&lt;ufunc &#x27;log1p&#x27;&gt;,\n",
       "                                            inverse_func=&lt;ufunc &#x27;expm1&#x27;&gt;,\n",
       "                                            regressor=Ridge(alpha=100)))])</pre><b>In a Jupyter environment, please rerun this cell to show the HTML representation or trust the notebook. <br />On GitHub, the HTML representation is unable to render, please try loading this page with nbviewer.org.</b></div><div class=\"sk-container\" hidden><div class=\"sk-item sk-dashed-wrapped\"><div class=\"sk-label-container\"><div class=\"sk-label sk-toggleable\"><input class=\"sk-toggleable__control sk-hidden--visually\" id=\"sk-estimator-id-1\" type=\"checkbox\" ><label for=\"sk-estimator-id-1\" class=\"sk-toggleable__label sk-toggleable__label-arrow\">Pipeline</label><div class=\"sk-toggleable__content\"><pre>Pipeline(steps=[(&#x27;columntransformer&#x27;,\n",
       "                 ColumnTransformer(remainder=&#x27;passthrough&#x27;,\n",
       "                                   transformers=[(&#x27;ohe&#x27;,\n",
       "                                                  OneHotEncoder(drop=&#x27;first&#x27;),\n",
       "                                                  [&#x27;Sex&#x27;])])),\n",
       "                (&#x27;standardscaler&#x27;, StandardScaler()),\n",
       "                (&#x27;polynomialfeatures&#x27;, PolynomialFeatures(degree=3)),\n",
       "                (&#x27;transformedtargetregressor&#x27;,\n",
       "                 TransformedTargetRegressor(func=&lt;ufunc &#x27;log1p&#x27;&gt;,\n",
       "                                            inverse_func=&lt;ufunc &#x27;expm1&#x27;&gt;,\n",
       "                                            regressor=Ridge(alpha=100)))])</pre></div></div></div><div class=\"sk-serial\"><div class=\"sk-item sk-dashed-wrapped\"><div class=\"sk-label-container\"><div class=\"sk-label sk-toggleable\"><input class=\"sk-toggleable__control sk-hidden--visually\" id=\"sk-estimator-id-2\" type=\"checkbox\" ><label for=\"sk-estimator-id-2\" class=\"sk-toggleable__label sk-toggleable__label-arrow\">columntransformer: ColumnTransformer</label><div class=\"sk-toggleable__content\"><pre>ColumnTransformer(remainder=&#x27;passthrough&#x27;,\n",
       "                  transformers=[(&#x27;ohe&#x27;, OneHotEncoder(drop=&#x27;first&#x27;), [&#x27;Sex&#x27;])])</pre></div></div></div><div class=\"sk-parallel\"><div class=\"sk-parallel-item\"><div class=\"sk-item\"><div class=\"sk-label-container\"><div class=\"sk-label sk-toggleable\"><input class=\"sk-toggleable__control sk-hidden--visually\" id=\"sk-estimator-id-3\" type=\"checkbox\" ><label for=\"sk-estimator-id-3\" class=\"sk-toggleable__label sk-toggleable__label-arrow\">ohe</label><div class=\"sk-toggleable__content\"><pre>[&#x27;Sex&#x27;]</pre></div></div></div><div class=\"sk-serial\"><div class=\"sk-item\"><div class=\"sk-estimator sk-toggleable\"><input class=\"sk-toggleable__control sk-hidden--visually\" id=\"sk-estimator-id-4\" type=\"checkbox\" ><label for=\"sk-estimator-id-4\" class=\"sk-toggleable__label sk-toggleable__label-arrow\">OneHotEncoder</label><div class=\"sk-toggleable__content\"><pre>OneHotEncoder(drop=&#x27;first&#x27;)</pre></div></div></div></div></div></div><div class=\"sk-parallel-item\"><div class=\"sk-item\"><div class=\"sk-label-container\"><div class=\"sk-label sk-toggleable\"><input class=\"sk-toggleable__control sk-hidden--visually\" id=\"sk-estimator-id-5\" type=\"checkbox\" ><label for=\"sk-estimator-id-5\" class=\"sk-toggleable__label sk-toggleable__label-arrow\">remainder</label><div class=\"sk-toggleable__content\"><pre></pre></div></div></div><div class=\"sk-serial\"><div class=\"sk-item\"><div class=\"sk-estimator sk-toggleable\"><input class=\"sk-toggleable__control sk-hidden--visually\" id=\"sk-estimator-id-6\" type=\"checkbox\" ><label for=\"sk-estimator-id-6\" class=\"sk-toggleable__label sk-toggleable__label-arrow\">passthrough</label><div class=\"sk-toggleable__content\"><pre>passthrough</pre></div></div></div></div></div></div></div></div><div class=\"sk-item\"><div class=\"sk-estimator sk-toggleable\"><input class=\"sk-toggleable__control sk-hidden--visually\" id=\"sk-estimator-id-7\" type=\"checkbox\" ><label for=\"sk-estimator-id-7\" class=\"sk-toggleable__label sk-toggleable__label-arrow\">StandardScaler</label><div class=\"sk-toggleable__content\"><pre>StandardScaler()</pre></div></div></div><div class=\"sk-item\"><div class=\"sk-estimator sk-toggleable\"><input class=\"sk-toggleable__control sk-hidden--visually\" id=\"sk-estimator-id-8\" type=\"checkbox\" ><label for=\"sk-estimator-id-8\" class=\"sk-toggleable__label sk-toggleable__label-arrow\">PolynomialFeatures</label><div class=\"sk-toggleable__content\"><pre>PolynomialFeatures(degree=3)</pre></div></div></div><div class=\"sk-item sk-dashed-wrapped\"><div class=\"sk-label-container\"><div class=\"sk-label sk-toggleable\"><input class=\"sk-toggleable__control sk-hidden--visually\" id=\"sk-estimator-id-9\" type=\"checkbox\" ><label for=\"sk-estimator-id-9\" class=\"sk-toggleable__label sk-toggleable__label-arrow\">transformedtargetregressor: TransformedTargetRegressor</label><div class=\"sk-toggleable__content\"><pre>TransformedTargetRegressor(func=&lt;ufunc &#x27;log1p&#x27;&gt;, inverse_func=&lt;ufunc &#x27;expm1&#x27;&gt;,\n",
       "                           regressor=Ridge(alpha=100))</pre></div></div></div><div class=\"sk-parallel\"><div class=\"sk-parallel-item\"><div class=\"sk-item\"><div class=\"sk-label-container\"><div class=\"sk-label sk-toggleable\"><input class=\"sk-toggleable__control sk-hidden--visually\" id=\"sk-estimator-id-10\" type=\"checkbox\" ><label for=\"sk-estimator-id-10\" class=\"sk-toggleable__label sk-toggleable__label-arrow\">regressor: Ridge</label><div class=\"sk-toggleable__content\"><pre>Ridge(alpha=100)</pre></div></div></div><div class=\"sk-serial\"><div class=\"sk-item\"><div class=\"sk-estimator sk-toggleable\"><input class=\"sk-toggleable__control sk-hidden--visually\" id=\"sk-estimator-id-11\" type=\"checkbox\" ><label for=\"sk-estimator-id-11\" class=\"sk-toggleable__label sk-toggleable__label-arrow\">Ridge</label><div class=\"sk-toggleable__content\"><pre>Ridge(alpha=100)</pre></div></div></div></div></div></div></div></div></div></div></div></div>"
      ],
      "text/plain": [
       "Pipeline(steps=[('columntransformer',\n",
       "                 ColumnTransformer(remainder='passthrough',\n",
       "                                   transformers=[('ohe',\n",
       "                                                  OneHotEncoder(drop='first'),\n",
       "                                                  ['Sex'])])),\n",
       "                ('standardscaler', StandardScaler()),\n",
       "                ('polynomialfeatures', PolynomialFeatures(degree=3)),\n",
       "                ('transformedtargetregressor',\n",
       "                 TransformedTargetRegressor(func=<ufunc 'log1p'>,\n",
       "                                            inverse_func=<ufunc 'expm1'>,\n",
       "                                            regressor=Ridge(alpha=100)))])"
      ]
     },
     "execution_count": 30,
     "metadata": {},
     "output_type": "execute_result"
    }
   ],
   "source": [
    "model"
   ]
  },
  {
   "cell_type": "code",
   "execution_count": 31,
   "metadata": {},
   "outputs": [
    {
     "name": "stdout",
     "output_type": "stream",
     "text": [
      "# Fold 0: RMSE 0.15128\n",
      "# Fold 1: RMSE 0.15211\n",
      "# Fold 2: RMSE 0.15193\n",
      "# Fold 3: RMSE 0.15252\n",
      "# Fold 4: RMSE 0.15025\n",
      "\u001b[32m Overall: 0.15162 Nystroem-Ridge\u001b[0m\n"
     ]
    }
   ],
   "source": [
    "# Nystreom transformer + Ridge\n",
    "model=make_pipeline(\n",
    "\n",
    "    ColumnTransformer([('ohe',OneHotEncoder(drop='first'),[\"Sex\"])],remainder=\"passthrough\"),\n",
    "    StandardScaler(),\n",
    "    Nystroem(n_components=500),\n",
    "    TransformedTargetRegressor(Ridge(0.1),\n",
    "                               func=np.log1p,\n",
    "                               inverse_func=np.expm1))\n",
    "\n",
    "cross_validate(model,\"Nystroem-Ridge\",numeric_features+log_features+[\"Sex\"])\n"
   ]
  },
  {
   "cell_type": "code",
   "execution_count": 32,
   "metadata": {},
   "outputs": [
    {
     "name": "stdout",
     "output_type": "stream",
     "text": [
      "# Fold 0: RMSE 0.15433\n",
      "# Fold 1: RMSE 0.15536\n",
      "# Fold 2: RMSE 0.15465\n",
      "# Fold 3: RMSE 0.15530\n",
      "# Fold 4: RMSE 0.15324\n",
      "\u001b[32m Overall: 0.15458 KNN\u001b[0m\n"
     ]
    }
   ],
   "source": [
    "# K nearest neighbours\n",
    "model=make_pipeline(\n",
    "\n",
    "    ColumnTransformer([('ohe',OneHotEncoder(drop=\"first\"),['Sex'])],remainder=\"passthrough\"),\n",
    "    StandardScaler(),\n",
    "    TransformedTargetRegressor(KNeighborsRegressor(n_neighbors=50),func=np.log1p,inverse_func=np.expm1)\n",
    "\n",
    "    )\n",
    "\n",
    "cross_validate(model,\"KNN\",log_features+[\"Sex\"])\n",
    " "
   ]
  },
  {
   "cell_type": "code",
   "execution_count": 33,
   "metadata": {},
   "outputs": [
    {
     "name": "stdout",
     "output_type": "stream",
     "text": [
      "# Fold 0: RMSE 0.14909\n",
      "# Fold 1: RMSE 0.15013\n",
      "# Fold 2: RMSE 0.15025\n",
      "# Fold 3: RMSE 0.15022\n",
      "# Fold 4: RMSE 0.14817\n",
      "\u001b[32m Overall: 0.14957 Random forest\u001b[0m\n"
     ]
    }
   ],
   "source": [
    "# random forest\n",
    "model=make_pipeline(\n",
    "\n",
    "    ColumnTransformer([('ohe',OneHotEncoder(drop='first'),['Sex'])],remainder=\"passthrough\"),\n",
    "    TransformedTargetRegressor(RandomForestRegressor(n_estimators=200,min_samples_leaf=8,max_features=5),\n",
    "                               func=np.log1p,\n",
    "                               inverse_func=np.expm1)\n",
    ")\n",
    "\n",
    "cross_validate(model,\"Random forest\",log_features+[\"Sex\"])"
   ]
  },
  {
   "cell_type": "code",
   "execution_count": 34,
   "metadata": {},
   "outputs": [
    {
     "name": "stdout",
     "output_type": "stream",
     "text": [
      "# Fold 0: RMSE 0.14998\n",
      "# Fold 1: RMSE 0.15087\n",
      "# Fold 2: RMSE 0.15102\n",
      "# Fold 3: RMSE 0.15115\n",
      "# Fold 4: RMSE 0.14926\n",
      "\u001b[32m Overall: 0.15046 ExtraTrees\u001b[0m\n"
     ]
    }
   ],
   "source": [
    "# ExtraTreesRegressor\n",
    "model=make_pipeline(\n",
    "\n",
    "    ColumnTransformer([('ohe',OneHotEncoder(drop=\"first\"),[\"Sex\"])],remainder=\"passthrough\"),\n",
    "    TransformedTargetRegressor(ExtraTreesRegressor(n_estimators=200,min_samples_leaf=7),\n",
    "                               func=np.log1p,\n",
    "                               inverse_func=np.expm1)\n",
    ")\n",
    "\n",
    "cross_validate(model,\"ExtraTrees\",log_features+[\"Sex\"])"
   ]
  },
  {
   "cell_type": "code",
   "execution_count": 35,
   "metadata": {},
   "outputs": [
    {
     "name": "stdout",
     "output_type": "stream",
     "text": [
      "# Fold 0: RMSE 0.14904\n",
      "# Fold 1: RMSE 0.14937\n",
      "# Fold 2: RMSE 0.15009\n",
      "# Fold 3: RMSE 0.14978\n",
      "# Fold 4: RMSE 0.14768\n",
      "\u001b[32m Overall: 0.14919 HGBR\u001b[0m\n"
     ]
    }
   ],
   "source": [
    "# HistGradientBoostingRegressor\n",
    "hgb_params={'max_iter': 300, \n",
    "            'max_leaf_nodes': 43, \n",
    "            'early_stopping': False, \n",
    "            'learning_rate': 0.08019987638525192, \n",
    "            'min_samples_leaf': 37}\n",
    "\n",
    "model=make_pipeline(\n",
    "\n",
    "    ColumnTransformer([('ohe',OneHotEncoder(drop=\"first\"),[\"Sex\"])],remainder=\"passthrough\"),\n",
    "    TransformedTargetRegressor(HistGradientBoostingRegressor(**hgb_params),\n",
    "                               func=np.log1p,\n",
    "                               inverse_func=np.expm1)\n",
    ")\n",
    "\n",
    "# cross_validate(model,\"HGBR\",numeric_features+[\"Sex\"]) #0.14919\n",
    "cross_validate(model,\"HGBR\",log_features+[\"Sex\"])"
   ]
  },
  {
   "cell_type": "markdown",
   "metadata": {},
   "source": [
    "We are going to implement 2 xgboost models.  \n",
    "1. first XGB optimize MSE and has a log transformed target  \n",
    "2. second XGB optimizes MSLE directly"
   ]
  },
  {
   "cell_type": "code",
   "execution_count": 36,
   "metadata": {},
   "outputs": [
    {
     "name": "stdout",
     "output_type": "stream",
     "text": [
      "# Fold 0: RMSE 0.14818\n",
      "# Fold 1: RMSE 0.14879\n",
      "# Fold 2: RMSE 0.14910\n",
      "# Fold 3: RMSE 0.14912\n",
      "# Fold 4: RMSE 0.14709\n",
      "\u001b[32m Overall: 0.14846 XGBR optimized for MSE\u001b[0m\n"
     ]
    }
   ],
   "source": [
    "xgb_params = {'grow_policy': 'lossguide', \n",
    "              'n_estimators': 300, \n",
    "              'learning_rate': 0.09471805900675286, \n",
    "              'max_depth': 8, \n",
    "              'reg_lambda': 33.33929116223339, \n",
    "              'min_child_weight': 27.048028004026204, \n",
    "              'colsample_bytree': 0.6105442825961575, \n",
    "              'objective': 'reg:squarederror', \n",
    "              'tree_method': 'hist', \n",
    "              'gamma': 0, \n",
    "              'enable_categorical': True}\n",
    "\n",
    "model=TransformedTargetRegressor(xgboost.XGBRegressor(**xgb_params),func=np.log1p,inverse_func=np.expm1)\n",
    "\n",
    "cross_validate(model,\"XGBR optimized for MSE\",numeric_features+[\"Sex\"],n_repeats=5)"
   ]
  },
  {
   "cell_type": "code",
   "execution_count": 37,
   "metadata": {},
   "outputs": [
    {
     "name": "stdout",
     "output_type": "stream",
     "text": [
      "# Fold 0: RMSE 0.14843\n",
      "# Fold 1: RMSE 0.14912\n",
      "# Fold 2: RMSE 0.14938\n",
      "# Fold 3: RMSE 0.14924\n",
      "# Fold 4: RMSE 0.14738\n",
      "\u001b[32m Overall: 0.14871 XGBR optimzed for MSLE\u001b[0m\n"
     ]
    }
   ],
   "source": [
    "# XGB Regressor with RMSLE objective\n",
    "xgb_params = {'grow_policy': 'depthwise', \n",
    "              'n_estimators': 500, \n",
    "              'learning_rate': 0.0896765799823656, \n",
    "              'max_depth': 8, \n",
    "              'reg_lambda': 1.003764844090402, \n",
    "              'min_child_weight': 0.20627702562667777, \n",
    "              'colsample_bytree': 0.5142803343048419, \n",
    "              'objective': 'reg:squaredlogerror', \n",
    "              'tree_method': 'hist', \n",
    "              'gamma': 0, \n",
    "              'enable_categorical': True}\n",
    "\n",
    "model=xgboost.XGBRegressor(**xgb_params)\n",
    "cross_validate(model,'XGBR optimzed for MSLE',numeric_features+[\"Sex\"],n_repeats=5)"
   ]
  },
  {
   "cell_type": "code",
   "execution_count": 38,
   "metadata": {},
   "outputs": [
    {
     "name": "stdout",
     "output_type": "stream",
     "text": [
      "# Fold 0: RMSE 0.14758\n",
      "# Fold 1: RMSE 0.14812\n",
      "# Fold 2: RMSE 0.14852\n",
      "# Fold 3: RMSE 0.14854\n",
      "# Fold 4: RMSE 0.14666\n",
      "\u001b[32m Overall: 0.14788 LGBM\u001b[0m\n"
     ]
    }
   ],
   "source": [
    "# LightGBM\n",
    "lgbm_params = {'n_estimators': 1000, \n",
    "               'learning_rate': 0.038622511348472645, \n",
    "               'colsample_bytree': 0.5757189042456357, \n",
    "               'reg_lambda': 0.09664116733307193, \n",
    "               'min_child_samples': 87, \n",
    "               'num_leaves': 43, \n",
    "               'verbose': -1}\n",
    "\n",
    "model=TransformedTargetRegressor(lightgbm.LGBMRegressor(**lgbm_params),func=np.log1p,inverse_func=np.expm1)\n",
    "\n",
    "cross_validate(model,\"LGBM\",numeric_features+[\"Sex\"],n_repeats=5)"
   ]
  },
  {
   "cell_type": "code",
   "execution_count": 39,
   "metadata": {},
   "outputs": [
    {
     "name": "stdout",
     "output_type": "stream",
     "text": [
      "# Fold 0: RMSE 0.14772\n",
      "# Fold 1: RMSE 0.14849\n",
      "# Fold 2: RMSE 0.14864\n",
      "# Fold 3: RMSE 0.14873\n",
      "# Fold 4: RMSE 0.14662\n",
      "\u001b[32m Overall: 0.14804 LGBM-sqrt\u001b[0m\n"
     ]
    }
   ],
   "source": [
    "# LightGBM with SQRT target transformation\n",
    "lgbm_params = {'n_estimators': 1000, \n",
    "               'learning_rate': 0.038622511348472645, \n",
    "               'colsample_bytree': 0.5757189042456357, \n",
    "               'reg_lambda': 0.09664116733307193, \n",
    "               'min_child_samples': 87, \n",
    "               'num_leaves': 43, \n",
    "               'verbose': -1}\n",
    "\n",
    "model=TransformedTargetRegressor(lightgbm.LGBMRegressor(**lgbm_params),func=np.sqrt,inverse_func=np.square)\n",
    "\n",
    "cross_validate(model,\"LGBM-sqrt\",numeric_features+[\"Sex\"],n_repeats=5)"
   ]
  },
  {
   "cell_type": "code",
   "execution_count": 40,
   "metadata": {},
   "outputs": [
    {
     "name": "stdout",
     "output_type": "stream",
     "text": [
      "# Fold 0: RMSE 0.14788\n",
      "# Fold 1: RMSE 0.14870\n",
      "# Fold 2: RMSE 0.14940\n",
      "# Fold 3: RMSE 0.14875\n",
      "# Fold 4: RMSE 0.14695\n",
      "\u001b[32m Overall: 0.14833 catboost\u001b[0m\n"
     ]
    }
   ],
   "source": [
    "# catboost\n",
    "cb_params = {'grow_policy': 'SymmetricTree', \n",
    "             'n_estimators': 1000, \n",
    "             'learning_rate': 0.128912681527133, \n",
    "             'l2_leaf_reg': 1.836927907521674, \n",
    "             'max_depth': 6, \n",
    "             'colsample_bylevel': 0.6775373040510968, \n",
    "             'random_strength': 0, \n",
    "             'boost_from_average': True, \n",
    "             'loss_function': 'RMSE', \n",
    "             'cat_features': ['Sex'], \n",
    "             'verbose': False}\n",
    "\n",
    "model=TransformedTargetRegressor(catboost.CatBoostRegressor(**cb_params),func=np.log1p,inverse_func=np.expm1)\n",
    "\n",
    "cross_validate(model,\"catboost\",numeric_features+[\"Sex\"],n_repeats=5)"
   ]
  },
  {
   "cell_type": "markdown",
   "metadata": {},
   "source": [
    "## Ensemble  \n",
    "`Ridge` is always good method to ensemble regression models. It determines optimal weights for blending ensemble members"
   ]
  },
  {
   "cell_type": "code",
   "execution_count": 41,
   "metadata": {},
   "outputs": [
    {
     "data": {
      "text/plain": [
       "dict_keys(['Poly-Ridge', 'Nystroem-Ridge', 'KNN', 'Random forest', 'ExtraTrees', 'HGBR', 'XGBR optimized for MSE', 'XGBR optimzed for MSLE', 'LGBM', 'LGBM-sqrt', 'catboost'])"
      ]
     },
     "execution_count": 41,
     "metadata": {},
     "output_type": "execute_result"
    }
   ],
   "source": [
    "oof.keys()"
   ]
  },
  {
   "cell_type": "code",
   "execution_count": 42,
   "metadata": {},
   "outputs": [
    {
     "name": "stdout",
     "output_type": "stream",
     "text": [
      "Ensemble weights\n",
      "Poly-Ridge                0.000000\n",
      "Nystroem-Ridge            0.001741\n",
      "KNN                       0.000000\n",
      "Random forest             0.071486\n",
      "ExtraTrees                0.000000\n",
      "HGBR                      0.051948\n",
      "XGBR optimized for MSE    0.107620\n",
      "XGBR optimzed for MSLE    0.075709\n",
      "LGBM                      0.243215\n",
      "LGBM-sqrt                 0.254513\n",
      "catboost                  0.200560\n",
      "dtype: float64\n",
      "Total weight: 1.0067914487814027\n",
      "Intercept: -0.017050622838252316\n",
      "Score: 0.14774\n"
     ]
    },
    {
     "data": {
      "image/png": "[encoded data removed]",
      "text/plain": [
       "<Figure size 640x480 with 1 Axes>"
      ]
     },
     "metadata": {},
     "output_type": "display_data"
    }
   ],
   "source": [
    "members=[name for name in oof.keys() if 'Stack' not in name]\n",
    "X=np.log1p(np.column_stack([oof[name] for name in members]))\n",
    "model=TransformedTargetRegressor(Ridge(positive=True,tol=1e-6),func=np.log1p,inverse_func=np.expm1)\n",
    "\n",
    "model.fit(X,train.Rings)\n",
    "print(\"Ensemble weights\")\n",
    "weights=pd.Series(model.regressor_.coef_,index=members)\n",
    "print(weights)\n",
    "print(f\"Total weight: {weights.sum()}\")\n",
    "print(f\"Intercept: {model.regressor_.intercept_}\")\n",
    "oof[\"Stack\"]=model.predict(X)\n",
    "print(f\"Score: {mean_squared_log_error(train.Rings,model.predict(X),squared=False):.5f}\")\n",
    "\n",
    "# Pie chart\n",
    "weights=weights[weights>=0.005]\n",
    "plt.pie(weights,labels=weights.index,autopct=\"%.01f%%\")\n",
    "plt.title(\"Ensemble\")\n",
    "plt.show()\n",
    "\n",
    "                                 "
   ]
  },
  {
   "cell_type": "code",
   "execution_count": 61,
   "metadata": {},
   "outputs": [],
   "source": [
    "# Test predictions\n",
    "if COMPUTE_TEST_PRED:\n",
    "    X=np.log1p(np.column_stack([test_pred[name] for name in members]))\n",
    "    test_pred['Stack']=model.predict(X)"
   ]
  },
  {
   "cell_type": "markdown",
   "metadata": {},
   "source": [
    "## Evaluation"
   ]
  },
  {
   "cell_type": "code",
   "execution_count": 82,
   "metadata": {},
   "outputs": [
    {
     "data": {
      "image/png": "[encoded data removed]",
      "text/plain": [
       "<Figure size 1200x520 with 1 Axes>"
      ]
     },
     "metadata": {},
     "output_type": "display_data"
    }
   ],
   "source": [
    "result_list=[]\n",
    "for label in oof.keys():\n",
    "    score=mean_squared_log_error(train[\"Rings\"],oof[label],squared=False)\n",
    "    result_list.append((label,score))\n",
    "\n",
    "result_df=pd.DataFrame(result_list,columns=[\"Label\",\"Score\"])\n",
    "result_df.sort_values(by=\"Score\",inplace=True)\n",
    "\n",
    "plt.figure(figsize=(12,len(result_df)*0.4+0.4))\n",
    "bars=plt.barh(np.arange(len(result_df)),result_df.Score,color='lightgreen')\n",
    "plt.gca().bar_label(bars,fmt='%.5f')\n",
    "plt.gca().invert_yaxis()\n",
    "plt.xlim(0.147,0.157)\n",
    "plt.xlabel(\"RMSLE (Lower is better)\")\n",
    "plt.yticks(np.arange(len(result_df)),result_df.Label)\n",
    "plt.show()"
   ]
  },
  {
   "cell_type": "markdown",
   "metadata": {},
   "source": [
    "## Submission"
   ]
  },
  {
   "cell_type": "code",
   "execution_count": 87,
   "metadata": {},
   "outputs": [],
   "source": [
    "if COMPUTE_TEST_PRED:\n",
    "    sub=pd.Series(data=test_pred[\"Stack\"],index=test.index,name=\"Rings\")\n",
    "    sub.to_csv(\"Submission.csv\")"
   ]
  },
  {
   "cell_type": "code",
   "execution_count": 93,
   "metadata": {},
   "outputs": [
    {
     "name": "stdout",
     "output_type": "stream",
     "text": [
      "id,Rings\n",
      "90615,9.847686752182787\n",
      "90616,9.733357390263187\n",
      "90617,9.879601659986708\n",
      "90618,10.477107785135585\n",
      "90619,7.614920748170965\n",
      "90620,9.300073251486648\n",
      "90621,10.995407096357383\n",
      "90622,6.129941628574919\n",
      "90623,7.911934861916159\n"
     ]
    }
   ],
   "source": [
    "!head Submission.csv"
   ]
  },
  {
   "cell_type": "code",
   "execution_count": null,
   "metadata": {},
   "outputs": [],
   "source": []
  }
 ],
 "metadata": {
  "kernelspec": {
   "display_name": "torch",
   "language": "python",
   "name": "python3"
  },
  "language_info": {
   "codemirror_mode": {
    "name": "ipython",
    "version": 3
   },
   "file_extension": ".py",
   "mimetype": "text/x-python",
   "name": "python",
   "nbconvert_exporter": "python",
   "pygments_lexer": "ipython3",
   "version": "3.10.13"
  }
 },
 "nbformat": 4,
 "nbformat_minor": 2
}
